{
  "nbformat": 4,
  "nbformat_minor": 0,
  "metadata": {
    "colab": {
      "provenance": [],
      "authorship_tag": "ABX9TyMCFVQy+b/2fN2WC3uyFToi",
      "include_colab_link": true
    },
    "kernelspec": {
      "name": "python3",
      "display_name": "Python 3"
    },
    "language_info": {
      "name": "python"
    }
  },
  "cells": [
    {
      "cell_type": "markdown",
      "metadata": {
        "id": "view-in-github",
        "colab_type": "text"
      },
      "source": [
        "<a href=\"https://colab.research.google.com/github/whoami-Lory271/thesis-project/blob/main/NLinear_train.ipynb\" target=\"_parent\"><img src=\"https://colab.research.google.com/assets/colab-badge.svg\" alt=\"Open In Colab\"/></a>"
      ]
    },
    {
      "cell_type": "code",
      "execution_count": 1,
      "metadata": {
        "id": "F_f2kH5HPmYE",
        "outputId": "db0d3779-3681-49ad-b941-f9b8691df277",
        "colab": {
          "base_uri": "https://localhost:8080/"
        }
      },
      "outputs": [
        {
          "output_type": "stream",
          "name": "stdout",
          "text": [
            "Cloning into 'LTSF-Linear'...\n",
            "remote: Enumerating objects: 429, done.\u001b[K\n",
            "remote: Counting objects: 100% (117/117), done.\u001b[K\n",
            "remote: Compressing objects: 100% (67/67), done.\u001b[K\n",
            "remote: Total 429 (delta 62), reused 90 (delta 50), pack-reused 312\u001b[K\n",
            "Receiving objects: 100% (429/429), 5.83 MiB | 21.71 MiB/s, done.\n",
            "Resolving deltas: 100% (206/206), done.\n"
          ]
        }
      ],
      "source": [
        "!git clone https://github.com/whoami-Lory271/LTSF-Linear"
      ]
    },
    {
      "cell_type": "code",
      "source": [
        "from google.colab import drive\n",
        "drive.mount('/content/drive')"
      ],
      "metadata": {
        "id": "G06IcfyiQAPk",
        "outputId": "a33789c6-76de-4fd7-9d64-89925fa87940",
        "colab": {
          "base_uri": "https://localhost:8080/"
        }
      },
      "execution_count": 2,
      "outputs": [
        {
          "output_type": "stream",
          "name": "stdout",
          "text": [
            "Mounted at /content/drive\n"
          ]
        }
      ]
    },
    {
      "cell_type": "code",
      "source": [
        "# !pip install -q condacolab\n",
        "# import condacolab\n",
        "# condacolab.install()\n",
        "# !conda create -n LTSF_Linear python=3.6.9\n",
        "# !conda activate LTSF_Linear\n",
        "!pip install -r /content/LTSF-Linear/requirements.txt"
      ],
      "metadata": {
        "id": "sI3PVtd6QC_d",
        "outputId": "4e09d51d-9ba9-490f-e26b-d5e586f37e0d",
        "colab": {
          "base_uri": "https://localhost:8080/"
        }
      },
      "execution_count": 3,
      "outputs": [
        {
          "output_type": "stream",
          "name": "stdout",
          "text": [
            "Requirement already satisfied: numpy in /usr/local/lib/python3.10/dist-packages (from -r /content/LTSF-Linear/requirements.txt (line 1)) (1.23.5)\n",
            "Requirement already satisfied: matplotlib in /usr/local/lib/python3.10/dist-packages (from -r /content/LTSF-Linear/requirements.txt (line 2)) (3.7.1)\n",
            "Requirement already satisfied: pandas in /usr/local/lib/python3.10/dist-packages (from -r /content/LTSF-Linear/requirements.txt (line 3)) (1.5.3)\n",
            "Requirement already satisfied: scikit-learn in /usr/local/lib/python3.10/dist-packages (from -r /content/LTSF-Linear/requirements.txt (line 4)) (1.2.2)\n",
            "\u001b[31mERROR: Could not find a version that satisfies the requirement torch==1.9.0 (from versions: 1.11.0, 1.12.0, 1.12.1, 1.13.0, 1.13.1, 2.0.0, 2.0.1)\u001b[0m\u001b[31m\n",
            "\u001b[0m\u001b[31mERROR: No matching distribution found for torch==1.9.0\u001b[0m\u001b[31m\n",
            "\u001b[0m"
          ]
        }
      ]
    },
    {
      "cell_type": "code",
      "source": [
        "!mkdir /content/LTSF-Linear/dataset\n",
        "!cp \"/content/drive/MyDrive/Tesi/code/datasets/NLinear/ETTh1.csv\" \"/content/LTSF-Linear/dataset/\"\n",
        "\n",
        "!cp \"/content/drive/MyDrive/Tesi/code/datasets/NLinear/ETTh2.csv\" \"/content/LTSF-Linear/dataset/\"\n",
        "\n",
        "!cp \"/content/drive/MyDrive/Tesi/code/datasets/NLinear/ETTm1.csv\" \"/content/LTSF-Linear/dataset/\"\n",
        "\n",
        "!cp \"/content/drive/MyDrive/Tesi/code/datasets/NLinear/electricity.csv\" \"/content/LTSF-Linear/dataset/\""
      ],
      "metadata": {
        "id": "SG3QrSZmS0jb"
      },
      "execution_count": 4,
      "outputs": []
    },
    {
      "cell_type": "code",
      "source": [
        "!cd /content/LTSF-Linear; sh scripts/EXP-LongForecasting/Linear/univariate/etth1.sh"
      ],
      "metadata": {
        "id": "DioIgODiTeY9",
        "outputId": "8a596ebd-c374-4601-a510-5d9bfea1dbb3",
        "colab": {
          "base_uri": "https://localhost:8080/"
        }
      },
      "execution_count": 5,
      "outputs": [
        {
          "output_type": "stream",
          "name": "stdout",
          "text": [
            "Traceback (most recent call last):\n",
            "  File \"/content/LTSF-Linear/run_longExp.py\", line 116, in <module>\n",
            "    exp.test(setting)\n",
            "  File \"/content/LTSF-Linear/exp/exp_main.py\", line 295, in test\n",
            "    f.write(json.dumps({'mse': mse, 'mae': mae}))\n",
            "  File \"/usr/lib/python3.10/json/__init__.py\", line 231, in dumps\n",
            "    return _default_encoder.encode(obj)\n",
            "  File \"/usr/lib/python3.10/json/encoder.py\", line 199, in encode\n",
            "    chunks = self.iterencode(o, _one_shot=True)\n",
            "  File \"/usr/lib/python3.10/json/encoder.py\", line 257, in iterencode\n",
            "    return _iterencode(o, 0)\n",
            "  File \"/usr/lib/python3.10/json/encoder.py\", line 179, in default\n",
            "    raise TypeError(f'Object of type {o.__class__.__name__} '\n",
            "TypeError: Object of type float32 is not JSON serializable\n",
            "Traceback (most recent call last):\n",
            "  File \"/content/LTSF-Linear/run_longExp.py\", line 116, in <module>\n",
            "    exp.test(setting)\n",
            "  File \"/content/LTSF-Linear/exp/exp_main.py\", line 295, in test\n",
            "    f.write(json.dumps({'mse': mse, 'mae': mae}))\n",
            "  File \"/usr/lib/python3.10/json/__init__.py\", line 231, in dumps\n",
            "    return _default_encoder.encode(obj)\n",
            "  File \"/usr/lib/python3.10/json/encoder.py\", line 199, in encode\n",
            "    chunks = self.iterencode(o, _one_shot=True)\n",
            "  File \"/usr/lib/python3.10/json/encoder.py\", line 257, in iterencode\n",
            "    return _iterencode(o, 0)\n",
            "  File \"/usr/lib/python3.10/json/encoder.py\", line 179, in default\n",
            "    raise TypeError(f'Object of type {o.__class__.__name__} '\n",
            "TypeError: Object of type float32 is not JSON serializable\n",
            "Traceback (most recent call last):\n",
            "  File \"/content/LTSF-Linear/run_longExp.py\", line 116, in <module>\n",
            "    exp.test(setting)\n",
            "  File \"/content/LTSF-Linear/exp/exp_main.py\", line 295, in test\n",
            "    f.write(json.dumps({'mse': mse, 'mae': mae}))\n",
            "  File \"/usr/lib/python3.10/json/__init__.py\", line 231, in dumps\n",
            "    return _default_encoder.encode(obj)\n",
            "  File \"/usr/lib/python3.10/json/encoder.py\", line 199, in encode\n",
            "    chunks = self.iterencode(o, _one_shot=True)\n",
            "  File \"/usr/lib/python3.10/json/encoder.py\", line 257, in iterencode\n",
            "    return _iterencode(o, 0)\n",
            "  File \"/usr/lib/python3.10/json/encoder.py\", line 179, in default\n",
            "    raise TypeError(f'Object of type {o.__class__.__name__} '\n",
            "TypeError: Object of type float32 is not JSON serializable\n",
            "Traceback (most recent call last):\n",
            "  File \"/content/LTSF-Linear/run_longExp.py\", line 116, in <module>\n",
            "    exp.test(setting)\n",
            "  File \"/content/LTSF-Linear/exp/exp_main.py\", line 295, in test\n",
            "    f.write(json.dumps({'mse': mse, 'mae': mae}))\n",
            "  File \"/usr/lib/python3.10/json/__init__.py\", line 231, in dumps\n",
            "    return _default_encoder.encode(obj)\n",
            "  File \"/usr/lib/python3.10/json/encoder.py\", line 199, in encode\n",
            "    chunks = self.iterencode(o, _one_shot=True)\n",
            "  File \"/usr/lib/python3.10/json/encoder.py\", line 257, in iterencode\n",
            "    return _iterencode(o, 0)\n",
            "  File \"/usr/lib/python3.10/json/encoder.py\", line 179, in default\n",
            "    raise TypeError(f'Object of type {o.__class__.__name__} '\n",
            "TypeError: Object of type float32 is not JSON serializable\n",
            "Traceback (most recent call last):\n",
            "  File \"/content/LTSF-Linear/run_longExp.py\", line 116, in <module>\n",
            "    exp.test(setting)\n",
            "  File \"/content/LTSF-Linear/exp/exp_main.py\", line 295, in test\n",
            "    f.write(json.dumps({'mse': mse, 'mae': mae}))\n",
            "  File \"/usr/lib/python3.10/json/__init__.py\", line 231, in dumps\n",
            "    return _default_encoder.encode(obj)\n",
            "  File \"/usr/lib/python3.10/json/encoder.py\", line 199, in encode\n",
            "    chunks = self.iterencode(o, _one_shot=True)\n",
            "  File \"/usr/lib/python3.10/json/encoder.py\", line 257, in iterencode\n",
            "    return _iterencode(o, 0)\n",
            "  File \"/usr/lib/python3.10/json/encoder.py\", line 179, in default\n",
            "    raise TypeError(f'Object of type {o.__class__.__name__} '\n",
            "TypeError: Object of type float32 is not JSON serializable\n",
            "Exception ignored in: <function _releaseLock at 0x7e01c9f92b90>\n",
            "Traceback (most recent call last):\n",
            "  File \"/usr/lib/python3.10/logging/__init__.py\", line 228, in _releaseLock\n",
            "    def _releaseLock():\n",
            "KeyboardInterrupt: \n",
            "Traceback (most recent call last):\n",
            "  File \"/usr/local/lib/python3.10/dist-packages/torch/utils/data/dataloader.py\", line 1132, in _try_get_data\n",
            "    data = self._data_queue.get(timeout=timeout)\n",
            "  File \"/usr/lib/python3.10/multiprocessing/queues.py\", line 114, in get\n",
            "    raise Empty\n",
            "_queue.Empty\n",
            "\n",
            "The above exception was the direct cause of the following exception:\n",
            "\n",
            "Traceback (most recent call last):\n",
            "  File \"/content/LTSF-Linear/run_longExp.py\", line 112, in <module>\n",
            "    exp.train(setting)\n",
            "  File \"/content/LTSF-Linear/exp/exp_main.py\", line 127, in train\n",
            "    for i, (batch_x, batch_y, batch_x_mark, batch_y_mark) in enumerate(train_loader):\n",
            "  File \"/usr/local/lib/python3.10/dist-packages/torch/utils/data/dataloader.py\", line 633, in __next__\n",
            "    data = self._next_data()\n",
            "  File \"/usr/local/lib/python3.10/dist-packages/torch/utils/data/dataloader.py\", line 1328, in _next_data\n",
            "    idx, data = self._get_data()\n",
            "  File \"/usr/local/lib/python3.10/dist-packages/torch/utils/data/dataloader.py\", line 1294, in _get_data\n",
            "    success, data = self._try_get_data()\n",
            "  File \"/usr/local/lib/python3.10/dist-packages/torch/utils/data/dataloader.py\", line 1145, in _try_get_data\n",
            "    raise RuntimeError('DataLoader worker (pid(s) {}) exited unexpectedly'.format(pids_str)) from e\n",
            "RuntimeError: DataLoader worker (pid(s) 10375, 10377, 10378, 10381, 10383) exited unexpectedly\n",
            "^C\n"
          ]
        }
      ]
    },
    {
      "cell_type": "code",
      "source": [
        "# !cp -r /content/LTSF-Linear/test_results /content/drive/MyDrive/Tesi/code/forecasting_result/NLinear"
      ],
      "metadata": {
        "id": "9VMlneIkWGOi"
      },
      "execution_count": 6,
      "outputs": []
    }
  ]
}