{
  "nbformat": 4,
  "nbformat_minor": 0,
  "metadata": {
    "colab": {
      "provenance": [],
      "include_colab_link": true
    },
    "kernelspec": {
      "name": "python3",
      "display_name": "Python 3"
    },
    "language_info": {
      "name": "python"
    }
  },
  "cells": [
    {
      "cell_type": "markdown",
      "metadata": {
        "id": "view-in-github",
        "colab_type": "text"
      },
      "source": [
        "<a href=\"https://colab.research.google.com/github/whoami-Lory271/thesis-project/blob/main/NLinear_train.ipynb\" target=\"_parent\"><img src=\"https://colab.research.google.com/assets/colab-badge.svg\" alt=\"Open In Colab\"/></a>"
      ]
    },
    {
      "cell_type": "code",
      "execution_count": null,
      "metadata": {
        "id": "F_f2kH5HPmYE",
        "outputId": "6ef0ce50-9c7a-4a0b-f48c-c97cf21d04fe",
        "colab": {
          "base_uri": "https://localhost:8080/"
        }
      },
      "outputs": [
        {
          "output_type": "stream",
          "name": "stdout",
          "text": [
            "Cloning into 'LTSF-Linear'...\n",
            "remote: Enumerating objects: 520, done.\u001b[K\n",
            "remote: Counting objects: 100% (208/208), done.\u001b[K\n",
            "remote: Compressing objects: 100% (105/105), done.\u001b[K\n",
            "remote: Total 520 (delta 121), reused 173 (delta 103), pack-reused 312\u001b[K\n",
            "Receiving objects: 100% (520/520), 5.84 MiB | 13.62 MiB/s, done.\n",
            "Resolving deltas: 100% (265/265), done.\n"
          ]
        }
      ],
      "source": [
        "!git clone -b stationarization https://github.com/whoami-Lory271/LTSF-Linear"
      ]
    },
    {
      "cell_type": "code",
      "source": [
        "from google.colab import drive\n",
        "drive.mount('/content/drive')"
      ],
      "metadata": {
        "id": "G06IcfyiQAPk",
        "outputId": "9776a676-c69d-495e-e0fb-b9ac4e26713e",
        "colab": {
          "base_uri": "https://localhost:8080/"
        }
      },
      "execution_count": null,
      "outputs": [
        {
          "output_type": "stream",
          "name": "stdout",
          "text": [
            "Mounted at /content/drive\n"
          ]
        }
      ]
    },
    {
      "cell_type": "code",
      "source": [
        "# !pip install -q condacolab\n",
        "# import condacolab\n",
        "# condacolab.install()\n",
        "# !conda create -n LTSF_Linear python=3.6.9\n",
        "# !conda activate LTSF_Linear\n",
        "!pip install -r /content/LTSF-Linear/requirements.txt"
      ],
      "metadata": {
        "id": "sI3PVtd6QC_d",
        "outputId": "84448763-7a39-4e6e-bdeb-3d529341eae9",
        "colab": {
          "base_uri": "https://localhost:8080/"
        }
      },
      "execution_count": null,
      "outputs": [
        {
          "output_type": "stream",
          "name": "stdout",
          "text": [
            "Requirement already satisfied: numpy in /usr/local/lib/python3.10/dist-packages (from -r /content/LTSF-Linear/requirements.txt (line 1)) (1.23.5)\n",
            "Requirement already satisfied: matplotlib in /usr/local/lib/python3.10/dist-packages (from -r /content/LTSF-Linear/requirements.txt (line 2)) (3.7.1)\n",
            "Requirement already satisfied: pandas in /usr/local/lib/python3.10/dist-packages (from -r /content/LTSF-Linear/requirements.txt (line 3)) (1.5.3)\n",
            "Requirement already satisfied: scikit-learn in /usr/local/lib/python3.10/dist-packages (from -r /content/LTSF-Linear/requirements.txt (line 4)) (1.2.2)\n",
            "\u001b[31mERROR: Could not find a version that satisfies the requirement torch==1.9.0 (from versions: 1.11.0, 1.12.0, 1.12.1, 1.13.0, 1.13.1, 2.0.0, 2.0.1)\u001b[0m\u001b[31m\n",
            "\u001b[0m\u001b[31mERROR: No matching distribution found for torch==1.9.0\u001b[0m\u001b[31m\n",
            "\u001b[0m"
          ]
        }
      ]
    },
    {
      "cell_type": "code",
      "source": [
        "!mkdir /content/LTSF-Linear/dataset\n",
        "!cp \"/content/drive/MyDrive/Tesi/code/datasets/NLinear/ETTh1.csv\" \"/content/LTSF-Linear/dataset/\"\n",
        "\n",
        "!cp \"/content/drive/MyDrive/Tesi/code/datasets/NLinear/ETTh2.csv\" \"/content/LTSF-Linear/dataset/\"\n",
        "\n",
        "!cp \"/content/drive/MyDrive/Tesi/code/datasets/NLinear/ETTm1.csv\" \"/content/LTSF-Linear/dataset/\"\n",
        "\n",
        "!cp \"/content/drive/MyDrive/Tesi/code/datasets/NLinear/ETTm2.csv\" \"/content/LTSF-Linear/dataset/\"\n",
        "\n",
        "!cp \"/content/drive/MyDrive/Tesi/code/datasets/NLinear/electricity.csv\" \"/content/LTSF-Linear/dataset/\""
      ],
      "metadata": {
        "id": "SG3QrSZmS0jb"
      },
      "execution_count": null,
      "outputs": []
    },
    {
      "cell_type": "code",
      "source": [
        "!cd /content/LTSF-Linear; sh scripts/EXP-LongForecasting/NLinear/multivariate/electricity.sh"
      ],
      "metadata": {
        "id": "DioIgODiTeY9"
      },
      "execution_count": null,
      "outputs": []
    },
    {
      "cell_type": "code",
      "source": [
        "# !cp -r /content/LTSF-Linear/test_results /content/drive/MyDrive/Tesi/code/forecasting_result/NLinear"
      ],
      "metadata": {
        "id": "9VMlneIkWGOi"
      },
      "execution_count": null,
      "outputs": []
    },
    {
      "cell_type": "code",
      "source": [
        "from google.colab import files\n",
        "files.download('/content/LTSF-Linear/result.txt')"
      ],
      "metadata": {
        "id": "-0KMW_mB7wJH",
        "outputId": "a889339c-926d-412a-986b-1b409633051a",
        "colab": {
          "base_uri": "https://localhost:8080/",
          "height": 17
        }
      },
      "execution_count": null,
      "outputs": [
        {
          "output_type": "display_data",
          "data": {
            "text/plain": [
              "<IPython.core.display.Javascript object>"
            ],
            "application/javascript": [
              "\n",
              "    async function download(id, filename, size) {\n",
              "      if (!google.colab.kernel.accessAllowed) {\n",
              "        return;\n",
              "      }\n",
              "      const div = document.createElement('div');\n",
              "      const label = document.createElement('label');\n",
              "      label.textContent = `Downloading \"${filename}\": `;\n",
              "      div.appendChild(label);\n",
              "      const progress = document.createElement('progress');\n",
              "      progress.max = size;\n",
              "      div.appendChild(progress);\n",
              "      document.body.appendChild(div);\n",
              "\n",
              "      const buffers = [];\n",
              "      let downloaded = 0;\n",
              "\n",
              "      const channel = await google.colab.kernel.comms.open(id);\n",
              "      // Send a message to notify the kernel that we're ready.\n",
              "      channel.send({})\n",
              "\n",
              "      for await (const message of channel.messages) {\n",
              "        // Send a message to notify the kernel that we're ready.\n",
              "        channel.send({})\n",
              "        if (message.buffers) {\n",
              "          for (const buffer of message.buffers) {\n",
              "            buffers.push(buffer);\n",
              "            downloaded += buffer.byteLength;\n",
              "            progress.value = downloaded;\n",
              "          }\n",
              "        }\n",
              "      }\n",
              "      const blob = new Blob(buffers, {type: 'application/binary'});\n",
              "      const a = document.createElement('a');\n",
              "      a.href = window.URL.createObjectURL(blob);\n",
              "      a.download = filename;\n",
              "      div.appendChild(a);\n",
              "      a.click();\n",
              "      div.remove();\n",
              "    }\n",
              "  "
            ]
          },
          "metadata": {}
        },
        {
          "output_type": "display_data",
          "data": {
            "text/plain": [
              "<IPython.core.display.Javascript object>"
            ],
            "application/javascript": [
              "download(\"download_e9ce5555-75f1-4f1e-ae50-1ee6cd515f2e\", \"result.txt\", 1167)"
            ]
          },
          "metadata": {}
        }
      ]
    }
  ]
}