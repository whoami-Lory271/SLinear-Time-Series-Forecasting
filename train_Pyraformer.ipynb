{
  "nbformat": 4,
  "nbformat_minor": 0,
  "metadata": {
    "colab": {
      "provenance": [],
      "gpuType": "T4",
      "include_colab_link": true
    },
    "kernelspec": {
      "name": "python3",
      "display_name": "Python 3"
    },
    "language_info": {
      "name": "python"
    },
    "accelerator": "GPU",
    "gpuClass": "standard"
  },
  "cells": [
    {
      "cell_type": "markdown",
      "metadata": {
        "id": "view-in-github",
        "colab_type": "text"
      },
      "source": [
        "<a href=\"https://colab.research.google.com/github/whoami-Lory271/thesis-project/blob/main/train_Pyraformer.ipynb\" target=\"_parent\"><img src=\"https://colab.research.google.com/assets/colab-badge.svg\" alt=\"Open In Colab\"/></a>"
      ]
    },
    {
      "cell_type": "markdown",
      "source": [
        "# Training CoST model"
      ],
      "metadata": {
        "id": "Gh2L5z66W2X6"
      }
    },
    {
      "cell_type": "code",
      "execution_count": 2,
      "metadata": {
        "id": "1LWptcrfWeZG",
        "outputId": "70e12dae-d33b-4b9e-bf86-93766101c4c4",
        "colab": {
          "base_uri": "https://localhost:8080/"
        }
      },
      "outputs": [
        {
          "output_type": "stream",
          "name": "stdout",
          "text": [
            "Cloning into 'Pyraformer'...\n",
            "remote: Enumerating objects: 96, done.\u001b[K\n",
            "remote: Counting objects: 100% (30/30), done.\u001b[K\n",
            "remote: Compressing objects: 100% (24/24), done.\u001b[K\n",
            "remote: Total 96 (delta 14), reused 18 (delta 6), pack-reused 66\u001b[K\n",
            "Receiving objects: 100% (96/96), 81.23 MiB | 33.05 MiB/s, done.\n",
            "Resolving deltas: 100% (33/33), done.\n"
          ]
        }
      ],
      "source": [
        "!git clone -b univariate https://github.com/whoami-Lory271/Pyraformer"
      ]
    },
    {
      "cell_type": "code",
      "source": [
        "from google.colab import drive\n",
        "drive.mount('/content/drive')"
      ],
      "metadata": {
        "id": "5EIFz57FW_Wh",
        "outputId": "ab7b9b3f-2c16-452e-8f99-e022f85ad361",
        "colab": {
          "base_uri": "https://localhost:8080/"
        }
      },
      "execution_count": 3,
      "outputs": [
        {
          "output_type": "stream",
          "name": "stdout",
          "text": [
            "Mounted at /content/drive\n"
          ]
        }
      ]
    },
    {
      "cell_type": "code",
      "source": [
        "!cp \"/content/drive/MyDrive/Tesi/code/datasets/electricity/LD2011_2014.txt\" \"/content/Pyraformer/data/\"\n",
        "!mkdir /content/Pyraformer/data/ETT\n",
        "!cp \"/content/drive/MyDrive/Tesi/code/datasets/ETT/ETTh1.csv\" \"/content/Pyraformer/data/ETT\""
      ],
      "metadata": {
        "id": "0hTJksSZXPcX"
      },
      "execution_count": 4,
      "outputs": []
    },
    {
      "cell_type": "code",
      "source": [
        "!pip install -r /content/Pyraformer/requirements.txt"
      ],
      "metadata": {
        "id": "x5qeqzGyXkx9",
        "outputId": "76941c5c-b975-4f1c-b570-cb1419752961",
        "colab": {
          "base_uri": "https://localhost:8080/"
        }
      },
      "execution_count": 5,
      "outputs": [
        {
          "output_type": "stream",
          "name": "stdout",
          "text": [
            "Collecting numpy==1.21.2 (from -r /content/Pyraformer/requirements.txt (line 1))\n",
            "  Downloading numpy-1.21.2-cp310-cp310-manylinux_2_17_x86_64.manylinux2014_x86_64.whl (15.9 MB)\n",
            "\u001b[2K     \u001b[90m━━━━━━━━━━━━━━━━━━━━━━━━━━━━━━━━━━━━━━━━\u001b[0m \u001b[32m15.9/15.9 MB\u001b[0m \u001b[31m54.9 MB/s\u001b[0m eta \u001b[36m0:00:00\u001b[0m\n",
            "\u001b[?25hCollecting pandas==1.3.3 (from -r /content/Pyraformer/requirements.txt (line 2))\n",
            "  Downloading pandas-1.3.3-cp310-cp310-manylinux_2_17_x86_64.manylinux2014_x86_64.whl (11.5 MB)\n",
            "\u001b[2K     \u001b[90m━━━━━━━━━━━━━━━━━━━━━━━━━━━━━━━━━━━━━━━\u001b[0m \u001b[32m11.5/11.5 MB\u001b[0m \u001b[31m105.1 MB/s\u001b[0m eta \u001b[36m0:00:00\u001b[0m\n",
            "\u001b[?25hCollecting pynvml==11.4.1 (from -r /content/Pyraformer/requirements.txt (line 3))\n",
            "  Downloading pynvml-11.4.1-py3-none-any.whl (46 kB)\n",
            "\u001b[2K     \u001b[90m━━━━━━━━━━━━━━━━━━━━━━━━━━━━━━━━━━━━━━━━\u001b[0m \u001b[32m47.0/47.0 kB\u001b[0m \u001b[31m6.0 MB/s\u001b[0m eta \u001b[36m0:00:00\u001b[0m\n",
            "\u001b[?25hCollecting reformer-pytorch==1.4.3 (from -r /content/Pyraformer/requirements.txt (line 4))\n",
            "  Downloading reformer_pytorch-1.4.3-py3-none-any.whl (16 kB)\n",
            "\u001b[31mERROR: Could not find a version that satisfies the requirement torch==1.8.0 (from versions: 1.11.0, 1.12.0, 1.12.1, 1.13.0, 1.13.1, 2.0.0, 2.0.1)\u001b[0m\u001b[31m\n",
            "\u001b[0m\u001b[31mERROR: No matching distribution found for torch==1.8.0\u001b[0m\u001b[31m\n",
            "\u001b[0m"
          ]
        }
      ]
    },
    {
      "cell_type": "code",
      "source": [
        "# !cd /content/CoST/datasets; python electricity.py"
      ],
      "metadata": {
        "id": "A_zO0vylX_fF"
      },
      "execution_count": null,
      "outputs": []
    },
    {
      "cell_type": "code",
      "source": [
        "# !cd /content/CoST; sh scripts/Electricity_CoST.sh"
      ],
      "metadata": {
        "id": "JDtXGWSiYvBz"
      },
      "execution_count": null,
      "outputs": []
    },
    {
      "cell_type": "code",
      "source": [
        "!cd /content/Pyraformer; python long_range_main.py -data ETTh1 -input_size 168 -predict_step 168 -n_head 6 --univariate"
      ],
      "metadata": {
        "id": "cHGjomTozYI6",
        "colab": {
          "base_uri": "https://localhost:8080/"
        },
        "outputId": "6bbc1d33-e33e-4ae9-a0d4-138158cb11e9"
      },
      "execution_count": 6,
      "outputs": [
        {
          "output_type": "stream",
          "name": "stdout",
          "text": [
            "[Info] parameters: Namespace(eval=False, data='ETTh1', root_path='./data/ETT/', data_path='ETTh1.csv', univariate=True, input_size=168, predict_step=168, inverse=False, model='Pyraformer', decoder='FC', epoch=5, batch_size=32, pretrain=False, hard_sample_mining=False, dropout=0.05, lr=0.0001, lr_step=0.1, d_model=512, d_inner_hid=512, d_k=128, d_v=128, d_bottleneck=128, n_head=6, n_layer=4, window_size=[4, 4, 4], inner_size=3, CSCM='Bottleneck_Construct', truncate=False, use_tvm=False, iter_num=5, enc_in=1, dec_in=1, covariate_size=4, seq_num=1, embed_type='DataEmbedding')\n",
            "[Info] Number of parameters: 9082112\n",
            "train 8305\n",
            "test 2713\n",
            "[ Epoch 1 ]\n",
            "  - (Training) MSE:  0.27899elapse: 0.718 min\n",
            "Traceback (most recent call last):\n",
            "  File \"/content/Pyraformer/long_range_main.py\", line 382, in <module>\n",
            "    metrics = main(opt, i)\n",
            "  File \"/content/Pyraformer/long_range_main.py\", line 369, in main\n",
            "    best_metrics = train(model, optimizer, scheduler, opt, model_save_dir)\n",
            "  File \"/content/Pyraformer/long_range_main.py\", line 246, in train\n",
            "    mse, mae, rmse, mape, mspe = eval_epoch(model, test_dataset, test_dataloader, opt, epoch_i)\n",
            "  File \"/content/Pyraformer/long_range_main.py\", line 205, in eval_epoch\n",
            "    outputs = model(batch_x, batch_x_mark, dec_inp, batch_y_mark, False)\n",
            "  File \"/usr/local/lib/python3.10/dist-packages/torch/nn/modules/module.py\", line 1501, in _call_impl\n",
            "    return forward_call(*args, **kwargs)\n",
            "  File \"/content/Pyraformer/pyraformer/Pyraformer_LR.py\", line 110, in forward\n",
            "    enc_output = self.encoder(x_enc, x_mark_enc)[:, -1, :]\n",
            "  File \"/usr/local/lib/python3.10/dist-packages/torch/nn/modules/module.py\", line 1501, in _call_impl\n",
            "    return forward_call(*args, **kwargs)\n",
            "  File \"/content/Pyraformer/pyraformer/Pyraformer_LR.py\", line 51, in forward\n",
            "    seq_enc = self.enc_embedding(x_enc, x_mark_enc)\n",
            "  File \"/usr/local/lib/python3.10/dist-packages/torch/nn/modules/module.py\", line 1501, in _call_impl\n",
            "    return forward_call(*args, **kwargs)\n",
            "  File \"/content/Pyraformer/pyraformer/embed.py\", line 92, in forward\n",
            "    x = self.value_embedding(x) + self.position_embedding(x) + self.temporal_embedding(x_mark)\n",
            "  File \"/usr/local/lib/python3.10/dist-packages/torch/nn/modules/module.py\", line 1501, in _call_impl\n",
            "    return forward_call(*args, **kwargs)\n",
            "  File \"/content/Pyraformer/pyraformer/embed.py\", line 48, in forward\n",
            "    x = self.tokenConv(x.permute(0, 2, 1)).transpose(1,2)\n",
            "  File \"/usr/local/lib/python3.10/dist-packages/torch/nn/modules/module.py\", line 1501, in _call_impl\n",
            "    return forward_call(*args, **kwargs)\n",
            "  File \"/usr/local/lib/python3.10/dist-packages/torch/nn/modules/conv.py\", line 313, in forward\n",
            "    return self._conv_forward(input, self.weight, self.bias)\n",
            "  File \"/usr/local/lib/python3.10/dist-packages/torch/nn/modules/conv.py\", line 306, in _conv_forward\n",
            "    return F.conv1d(F.pad(input, self._reversed_padding_repeated_twice, mode=self.padding_mode),\n",
            "RuntimeError: Given groups=1, weight of size [512, 1, 3], expected input[32, 7, 171] to have 1 channels, but got 7 channels instead\n"
          ]
        }
      ]
    }
  ]
}