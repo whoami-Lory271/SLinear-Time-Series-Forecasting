{
  "nbformat": 4,
  "nbformat_minor": 0,
  "metadata": {
    "colab": {
      "provenance": [],
      "gpuType": "T4",
      "include_colab_link": true
    },
    "kernelspec": {
      "name": "python3",
      "display_name": "Python 3"
    },
    "language_info": {
      "name": "python"
    },
    "accelerator": "GPU",
    "gpuClass": "standard"
  },
  "cells": [
    {
      "cell_type": "markdown",
      "metadata": {
        "id": "view-in-github",
        "colab_type": "text"
      },
      "source": [
        "<a href=\"https://colab.research.google.com/github/whoami-Lory271/thesis-project/blob/main/train_Pyraformer.ipynb\" target=\"_parent\"><img src=\"https://colab.research.google.com/assets/colab-badge.svg\" alt=\"Open In Colab\"/></a>"
      ]
    },
    {
      "cell_type": "markdown",
      "source": [
        "# Training CoST model"
      ],
      "metadata": {
        "id": "Gh2L5z66W2X6"
      }
    },
    {
      "cell_type": "code",
      "execution_count": 1,
      "metadata": {
        "id": "1LWptcrfWeZG",
        "outputId": "abef07d3-852e-46f1-9f27-4d32096c7096",
        "colab": {
          "base_uri": "https://localhost:8080/"
        }
      },
      "outputs": [
        {
          "output_type": "stream",
          "name": "stdout",
          "text": [
            "Cloning into 'Pyraformer'...\n",
            "remote: Enumerating objects: 102, done.\u001b[K\n",
            "remote: Counting objects: 100% (36/36), done.\u001b[K\n",
            "remote: Compressing objects: 100% (28/28), done.\u001b[K\n",
            "remote: Total 102 (delta 18), reused 23 (delta 8), pack-reused 66\u001b[K\n",
            "Receiving objects: 100% (102/102), 81.23 MiB | 15.08 MiB/s, done.\n",
            "Resolving deltas: 100% (37/37), done.\n"
          ]
        }
      ],
      "source": [
        "!git clone -b univariate https://github.com/whoami-Lory271/Pyraformer"
      ]
    },
    {
      "cell_type": "code",
      "source": [
        "from google.colab import drive\n",
        "drive.mount('/content/drive')"
      ],
      "metadata": {
        "id": "5EIFz57FW_Wh",
        "outputId": "bd677773-69f2-4651-eef9-177f17b82ebd",
        "colab": {
          "base_uri": "https://localhost:8080/"
        }
      },
      "execution_count": 2,
      "outputs": [
        {
          "output_type": "stream",
          "name": "stdout",
          "text": [
            "Mounted at /content/drive\n"
          ]
        }
      ]
    },
    {
      "cell_type": "code",
      "source": [
        "!cp \"/content/drive/MyDrive/Tesi/code/datasets/electricity/LD2011_2014.txt\" \"/content/Pyraformer/data/\"\n",
        "!mkdir /content/Pyraformer/data/ETT\n",
        "!cp \"/content/drive/MyDrive/Tesi/code/datasets/ETT/ETTh1.csv\" \"/content/Pyraformer/data/ETT\""
      ],
      "metadata": {
        "id": "0hTJksSZXPcX"
      },
      "execution_count": 3,
      "outputs": []
    },
    {
      "cell_type": "code",
      "source": [
        "!pip install -r /content/Pyraformer/requirements.txt"
      ],
      "metadata": {
        "id": "x5qeqzGyXkx9",
        "outputId": "cf48cc58-0be4-4e09-d58d-0c95254227d2",
        "colab": {
          "base_uri": "https://localhost:8080/"
        }
      },
      "execution_count": 4,
      "outputs": [
        {
          "output_type": "stream",
          "name": "stdout",
          "text": [
            "Collecting numpy==1.21.2 (from -r /content/Pyraformer/requirements.txt (line 1))\n",
            "  Downloading numpy-1.21.2-cp310-cp310-manylinux_2_17_x86_64.manylinux2014_x86_64.whl (15.9 MB)\n",
            "\u001b[2K     \u001b[90m━━━━━━━━━━━━━━━━━━━━━━━━━━━━━━━━━━━━━━━━\u001b[0m \u001b[32m15.9/15.9 MB\u001b[0m \u001b[31m57.6 MB/s\u001b[0m eta \u001b[36m0:00:00\u001b[0m\n",
            "\u001b[?25hCollecting pandas==1.3.3 (from -r /content/Pyraformer/requirements.txt (line 2))\n",
            "  Downloading pandas-1.3.3-cp310-cp310-manylinux_2_17_x86_64.manylinux2014_x86_64.whl (11.5 MB)\n",
            "\u001b[2K     \u001b[90m━━━━━━━━━━━━━━━━━━━━━━━━━━━━━━━━━━━━━━━━\u001b[0m \u001b[32m11.5/11.5 MB\u001b[0m \u001b[31m96.0 MB/s\u001b[0m eta \u001b[36m0:00:00\u001b[0m\n",
            "\u001b[?25hCollecting pynvml==11.4.1 (from -r /content/Pyraformer/requirements.txt (line 3))\n",
            "  Downloading pynvml-11.4.1-py3-none-any.whl (46 kB)\n",
            "\u001b[2K     \u001b[90m━━━━━━━━━━━━━━━━━━━━━━━━━━━━━━━━━━━━━━━━\u001b[0m \u001b[32m47.0/47.0 kB\u001b[0m \u001b[31m6.0 MB/s\u001b[0m eta \u001b[36m0:00:00\u001b[0m\n",
            "\u001b[?25hCollecting reformer-pytorch==1.4.3 (from -r /content/Pyraformer/requirements.txt (line 4))\n",
            "  Downloading reformer_pytorch-1.4.3-py3-none-any.whl (16 kB)\n",
            "\u001b[31mERROR: Could not find a version that satisfies the requirement torch==1.8.0 (from versions: 1.11.0, 1.12.0, 1.12.1, 1.13.0, 1.13.1, 2.0.0, 2.0.1)\u001b[0m\u001b[31m\n",
            "\u001b[0m\u001b[31mERROR: No matching distribution found for torch==1.8.0\u001b[0m\u001b[31m\n",
            "\u001b[0m"
          ]
        }
      ]
    },
    {
      "cell_type": "code",
      "source": [
        "!cd /content/Pyraformer; python long_range_main.py -data ETTh1 -input_size 168 -predict_step 168 -n_head 6 --univariate"
      ],
      "metadata": {
        "id": "cHGjomTozYI6",
        "colab": {
          "base_uri": "https://localhost:8080/"
        },
        "outputId": "797d370c-b0e3-4018-d2d6-87b3d197d138"
      },
      "execution_count": 5,
      "outputs": [
        {
          "output_type": "stream",
          "name": "stdout",
          "text": [
            "[Info] parameters: Namespace(eval=False, data='ETTh1', root_path='./data/ETT/', data_path='ETTh1.csv', univariate=True, input_size=168, predict_step=168, inverse=False, model='Pyraformer', decoder='FC', epoch=5, batch_size=32, pretrain=False, hard_sample_mining=False, dropout=0.05, lr=0.0001, lr_step=0.1, d_model=512, d_inner_hid=512, d_k=128, d_v=128, d_bottleneck=128, n_head=6, n_layer=4, window_size=[4, 4, 4], inner_size=3, CSCM='Bottleneck_Construct', truncate=False, use_tvm=False, iter_num=5, enc_in=1, dec_in=1, covariate_size=4, seq_num=1, embed_type='DataEmbedding')\n",
            "[Info] Number of parameters: 9082112\n",
            "train 8305\n",
            "test 2713\n",
            "[ Epoch 1 ]\n",
            "  - (Training) MSE:  0.27737elapse: 0.766 min\n",
            "test shape:(2713, 168, 1)\n",
            "Epoch 0, mse:0.17474739253520966, mae:0.33795180916786194, rmse:0.41802796721458435, mape:0.24213095009326935, mspe:0.08617393672466278\n",
            "[ Epoch 2 ]\n",
            "  - (Training) MSE:  0.19983elapse: 0.644 min\n",
            "test shape:(2713, 168, 1)\n",
            "Epoch 1, mse:0.16936929523944855, mae:0.33855411410331726, rmse:0.4115450084209442, mape:0.2393871694803238, mspe:0.07938622683286667\n",
            "[ Epoch 3 ]\n",
            "  - (Training) MSE:  0.19470elapse: 0.636 min\n",
            "test shape:(2713, 168, 1)\n",
            "Epoch 2, mse:0.19508427381515503, mae:0.3693120777606964, rmse:0.44168344140052795, mape:0.258554071187973, mspe:0.08770303428173065\n",
            "[ Epoch 4 ]\n",
            "  - (Training) MSE:  0.19373elapse: 0.639 min\n",
            "test shape:(2713, 168, 1)\n",
            "Epoch 3, mse:0.19181442260742188, mae:0.3657253086566925, rmse:0.4379662275314331, mape:0.25611206889152527, mspe:0.08630819618701935\n",
            "[ Epoch 5 ]\n",
            "  - (Training) MSE:  0.19401elapse: 0.638 min\n",
            "test shape:(2713, 168, 1)\n",
            "Epoch 4, mse:0.19384543597698212, mae:0.36810141801834106, rmse:0.4402788281440735, mape:0.25773370265960693, mspe:0.0871831476688385\n",
            "Iteration best metrics: [0.16936929523944855, 0.33855411410331726, 0.4115450084209442, 0.2393871694803238, 0.07938622683286667]\n",
            "[Info] parameters: Namespace(eval=False, data='ETTh1', root_path='./data/ETT/', data_path='ETTh1.csv', univariate=True, input_size=168, predict_step=168, inverse=False, model='Pyraformer', decoder='FC', epoch=5, batch_size=32, pretrain=False, hard_sample_mining=False, dropout=0.05, lr=0.0001, lr_step=0.1, d_model=512, d_inner_hid=512, d_k=128, d_v=128, d_bottleneck=128, n_head=6, n_layer=4, window_size=[4, 4, 4], inner_size=3, CSCM='Bottleneck_Construct', truncate=False, use_tvm=False, iter_num=5, enc_in=1, dec_in=1, covariate_size=4, seq_num=1, embed_type='DataEmbedding', device=device(type='cuda'))\n",
            "[Info] Number of parameters: 9082112\n",
            "train 8305\n",
            "test 2713\n",
            "[ Epoch 1 ]\n",
            "  - (Training) MSE:  0.27477elapse: 0.640 min\n",
            "test shape:(2713, 168, 1)\n",
            "Epoch 0, mse:0.18887530267238617, mae:0.3620123565196991, rmse:0.43459784984588623, mape:0.2556779682636261, mspe:0.08729567378759384\n",
            "[ Epoch 2 ]\n",
            "  - (Training) MSE:  0.19674elapse: 0.639 min\n",
            "test shape:(2713, 168, 1)\n",
            "Epoch 1, mse:0.20770636200904846, mae:0.3833892047405243, rmse:0.45574814081192017, mape:0.2680395245552063, mspe:0.09213197976350784\n",
            "[ Epoch 3 ]\n",
            "  - (Training) MSE:  0.19266elapse: 0.638 min\n",
            "test shape:(2713, 168, 1)\n",
            "Epoch 2, mse:0.21703945100307465, mae:0.3938916027545929, rmse:0.46587494015693665, mape:0.2747595012187958, mspe:0.09564093500375748\n",
            "[ Epoch 4 ]\n",
            "  - (Training) MSE:  0.19004elapse: 0.638 min\n",
            "test shape:(2713, 168, 1)\n",
            "Epoch 3, mse:0.2193642258644104, mae:0.39611005783081055, rmse:0.46836334466934204, mape:0.27627187967300415, mspe:0.09666046500205994\n",
            "[ Epoch 5 ]\n",
            "  - (Training) MSE:  0.19053elapse: 0.639 min\n",
            "test shape:(2713, 168, 1)\n",
            "Epoch 4, mse:0.21605432033538818, mae:0.392569363117218, rmse:0.46481645107269287, mape:0.2738926112651825, mspe:0.09531721472740173\n",
            "Iteration best metrics: [0.18887530267238617, 0.3620123565196991, 0.43459784984588623, 0.2556779682636261, 0.08729567378759384]\n",
            "[Info] parameters: Namespace(eval=False, data='ETTh1', root_path='./data/ETT/', data_path='ETTh1.csv', univariate=True, input_size=168, predict_step=168, inverse=False, model='Pyraformer', decoder='FC', epoch=5, batch_size=32, pretrain=False, hard_sample_mining=False, dropout=0.05, lr=0.0001, lr_step=0.1, d_model=512, d_inner_hid=512, d_k=128, d_v=128, d_bottleneck=128, n_head=6, n_layer=4, window_size=[4, 4, 4], inner_size=3, CSCM='Bottleneck_Construct', truncate=False, use_tvm=False, iter_num=5, enc_in=1, dec_in=1, covariate_size=4, seq_num=1, embed_type='DataEmbedding', device=device(type='cuda'))\n",
            "[Info] Number of parameters: 9082112\n",
            "train 8305\n",
            "test 2713\n",
            "[ Epoch 1 ]\n",
            "  - (Training) MSE:  0.27553elapse: 0.638 min\n",
            "test shape:(2713, 168, 1)\n",
            "Epoch 0, mse:0.17148931324481964, mae:0.3396519720554352, rmse:0.4141126871109009, mape:0.2404230535030365, mspe:0.08059383928775787\n",
            "[ Epoch 2 ]\n",
            "  - (Training) MSE:  0.19987elapse: 0.638 min\n",
            "test shape:(2713, 168, 1)\n",
            "Epoch 1, mse:0.16250526905059814, mae:0.3309940695762634, rmse:0.40311941504478455, mape:0.23374396562576294, mspe:0.07532133907079697\n",
            "[ Epoch 3 ]\n",
            "  - (Training) MSE:  0.19404elapse: 0.638 min\n",
            "test shape:(2713, 168, 1)\n",
            "Epoch 2, mse:0.19969698786735535, mae:0.37448421120643616, rmse:0.4468746781349182, mape:0.26163485646247864, mspe:0.08860919624567032\n",
            "[ Epoch 4 ]\n",
            "  - (Training) MSE:  0.19304elapse: 0.639 min\n",
            "test shape:(2713, 168, 1)\n",
            "Epoch 3, mse:0.19428890943527222, mae:0.3684203326702118, rmse:0.4407821595668793, mape:0.2575807571411133, mspe:0.08642859011888504\n",
            "[ Epoch 5 ]\n",
            "  - (Training) MSE:  0.19291elapse: 0.639 min\n",
            "test shape:(2713, 168, 1)\n",
            "Epoch 4, mse:0.19395983219146729, mae:0.3680678904056549, rmse:0.44040870666503906, mape:0.25745198130607605, mspe:0.08644293248653412\n",
            "Iteration best metrics: [0.16250526905059814, 0.3309940695762634, 0.40311941504478455, 0.23374396562576294, 0.07532133907079697]\n",
            "[Info] parameters: Namespace(eval=False, data='ETTh1', root_path='./data/ETT/', data_path='ETTh1.csv', univariate=True, input_size=168, predict_step=168, inverse=False, model='Pyraformer', decoder='FC', epoch=5, batch_size=32, pretrain=False, hard_sample_mining=False, dropout=0.05, lr=0.0001, lr_step=0.1, d_model=512, d_inner_hid=512, d_k=128, d_v=128, d_bottleneck=128, n_head=6, n_layer=4, window_size=[4, 4, 4], inner_size=3, CSCM='Bottleneck_Construct', truncate=False, use_tvm=False, iter_num=5, enc_in=1, dec_in=1, covariate_size=4, seq_num=1, embed_type='DataEmbedding', device=device(type='cuda'))\n",
            "[Info] Number of parameters: 9082112\n",
            "train 8305\n",
            "test 2713\n",
            "[ Epoch 1 ]\n",
            "  - (Training) MSE:  0.28021elapse: 0.639 min\n",
            "test shape:(2713, 168, 1)\n",
            "Epoch 0, mse:0.3298054039478302, mae:0.5042412877082825, rmse:0.5742868781089783, mape:0.35246989130973816, mspe:0.14543643593788147\n",
            "[ Epoch 2 ]\n",
            "  - (Training) MSE:  0.20235elapse: 0.638 min\n",
            "test shape:(2713, 168, 1)\n",
            "Epoch 1, mse:0.19084332883358002, mae:0.36516043543815613, rmse:0.4368561804294586, mape:0.2554180920124054, mspe:0.08541351556777954\n",
            "[ Epoch 3 ]\n",
            "  - (Training) MSE:  0.19563elapse: 0.638 min\n",
            "test shape:(2713, 168, 1)\n",
            "Epoch 2, mse:0.18997962772846222, mae:0.36503028869628906, rmse:0.4358665347099304, mape:0.25518494844436646, mspe:0.08482874184846878\n",
            "[ Epoch 4 ]\n",
            "  - (Training) MSE:  0.19461elapse: 0.639 min\n",
            "test shape:(2713, 168, 1)\n",
            "Epoch 3, mse:0.188083216547966, mae:0.3630105257034302, rmse:0.43368563055992126, mape:0.25363484025001526, mspe:0.08373729884624481\n",
            "[ Epoch 5 ]\n",
            "  - (Training) MSE:  0.19395elapse: 0.639 min\n",
            "test shape:(2713, 168, 1)\n",
            "Epoch 4, mse:0.19155476987361908, mae:0.36695897579193115, rmse:0.43766969442367554, mape:0.25630342960357666, mspe:0.08519288152456284\n",
            "Iteration best metrics: [0.188083216547966, 0.3630105257034302, 0.43368563055992126, 0.25363484025001526, 0.08373729884624481]\n",
            "[Info] parameters: Namespace(eval=False, data='ETTh1', root_path='./data/ETT/', data_path='ETTh1.csv', univariate=True, input_size=168, predict_step=168, inverse=False, model='Pyraformer', decoder='FC', epoch=5, batch_size=32, pretrain=False, hard_sample_mining=False, dropout=0.05, lr=0.0001, lr_step=0.1, d_model=512, d_inner_hid=512, d_k=128, d_v=128, d_bottleneck=128, n_head=6, n_layer=4, window_size=[4, 4, 4], inner_size=3, CSCM='Bottleneck_Construct', truncate=False, use_tvm=False, iter_num=5, enc_in=1, dec_in=1, covariate_size=4, seq_num=1, embed_type='DataEmbedding', device=device(type='cuda'))\n",
            "[Info] Number of parameters: 9082112\n",
            "train 8305\n",
            "test 2713\n",
            "[ Epoch 1 ]\n",
            "  - (Training) MSE:  0.28361elapse: 0.638 min\n",
            "test shape:(2713, 168, 1)\n",
            "Epoch 0, mse:0.20442847907543182, mae:0.3796079456806183, rmse:0.45213767886161804, mape:0.2662205696105957, mspe:0.0922515019774437\n",
            "[ Epoch 2 ]\n",
            "  - (Training) MSE:  0.20135elapse: 0.639 min\n",
            "test shape:(2713, 168, 1)\n",
            "Epoch 1, mse:0.22648711502552032, mae:0.4031199812889099, rmse:0.4759066104888916, mape:0.2809845805168152, mspe:0.09969651699066162\n",
            "[ Epoch 3 ]\n",
            "  - (Training) MSE:  0.19681elapse: 0.639 min\n",
            "test shape:(2713, 168, 1)\n",
            "Epoch 2, mse:0.20654532313346863, mae:0.3825130760669708, rmse:0.4544725716114044, mape:0.2671860456466675, mspe:0.0916443020105362\n",
            "[ Epoch 4 ]\n",
            "  - (Training) MSE:  0.19642elapse: 0.639 min\n",
            "test shape:(2713, 168, 1)\n",
            "Epoch 3, mse:0.20200155675411224, mae:0.37734124064445496, rmse:0.44944584369659424, mape:0.26379162073135376, mspe:0.08992645144462585\n",
            "[ Epoch 5 ]\n",
            "  - (Training) MSE:  0.19585elapse: 0.638 min\n",
            "test shape:(2713, 168, 1)\n",
            "Epoch 4, mse:0.20031073689460754, mae:0.375475138425827, rmse:0.4475608766078949, mape:0.2625807821750641, mspe:0.08928341418504715\n",
            "Iteration best metrics: [0.20031073689460754, 0.375475138425827, 0.4475608766078949, 0.2625807821750641, 0.08928341418504715]\n",
            "Average Metrics: [0.18182876 0.35400924 0.42610176 0.24900495 0.08300479]\n"
          ]
        }
      ]
    }
  ]
}