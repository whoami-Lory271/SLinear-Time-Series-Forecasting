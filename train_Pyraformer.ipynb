{
  "nbformat": 4,
  "nbformat_minor": 0,
  "metadata": {
    "colab": {
      "provenance": [],
      "gpuType": "T4",
      "include_colab_link": true
    },
    "kernelspec": {
      "name": "python3",
      "display_name": "Python 3"
    },
    "language_info": {
      "name": "python"
    },
    "accelerator": "GPU",
    "gpuClass": "standard"
  },
  "cells": [
    {
      "cell_type": "markdown",
      "metadata": {
        "id": "view-in-github",
        "colab_type": "text"
      },
      "source": [
        "<a href=\"https://colab.research.google.com/github/whoami-Lory271/thesis-project/blob/main/train_Pyraformer.ipynb\" target=\"_parent\"><img src=\"https://colab.research.google.com/assets/colab-badge.svg\" alt=\"Open In Colab\"/></a>"
      ]
    },
    {
      "cell_type": "markdown",
      "source": [
        "# Training CoST model"
      ],
      "metadata": {
        "id": "Gh2L5z66W2X6"
      }
    },
    {
      "cell_type": "code",
      "execution_count": 1,
      "metadata": {
        "id": "1LWptcrfWeZG",
        "outputId": "335d79f6-566e-498d-c493-a6981b50107d",
        "colab": {
          "base_uri": "https://localhost:8080/"
        }
      },
      "outputs": [
        {
          "output_type": "stream",
          "name": "stdout",
          "text": [
            "Cloning into 'Pyraformer'...\n",
            "remote: Enumerating objects: 112, done.\u001b[K\n",
            "remote: Counting objects: 100% (46/46), done.\u001b[K\n",
            "remote: Compressing objects: 100% (37/37), done.\u001b[K\n",
            "remote: Total 112 (delta 23), reused 29 (delta 9), pack-reused 66\u001b[K\n",
            "Receiving objects: 100% (112/112), 81.23 MiB | 43.39 MiB/s, done.\n",
            "Resolving deltas: 100% (42/42), done.\n"
          ]
        }
      ],
      "source": [
        "!git clone -b univariate https://github.com/whoami-Lory271/Pyraformer"
      ]
    },
    {
      "cell_type": "code",
      "source": [
        "from google.colab import drive\n",
        "drive.mount('/content/drive')"
      ],
      "metadata": {
        "id": "5EIFz57FW_Wh",
        "outputId": "490e0266-01a7-4275-c003-0319888b4062",
        "colab": {
          "base_uri": "https://localhost:8080/"
        }
      },
      "execution_count": 2,
      "outputs": [
        {
          "output_type": "stream",
          "name": "stdout",
          "text": [
            "Mounted at /content/drive\n"
          ]
        }
      ]
    },
    {
      "cell_type": "code",
      "source": [
        "!cp \"/content/drive/MyDrive/Tesi/code/datasets/electricity/LD2011_2014.txt\" \"/content/Pyraformer/data/\"\n",
        "!mkdir /content/Pyraformer/data/ETT\n",
        "!cp \"/content/drive/MyDrive/Tesi/code/datasets/ETT/ETTh1.csv\" \"/content/Pyraformer/data/ETT\""
      ],
      "metadata": {
        "id": "0hTJksSZXPcX"
      },
      "execution_count": 3,
      "outputs": []
    },
    {
      "cell_type": "code",
      "source": [
        "!pip install -r /content/Pyraformer/requirements.txt"
      ],
      "metadata": {
        "id": "x5qeqzGyXkx9",
        "outputId": "bfaa0bb8-9c0d-4fb5-f661-cdb31d7a4e0b",
        "colab": {
          "base_uri": "https://localhost:8080/"
        }
      },
      "execution_count": 4,
      "outputs": [
        {
          "output_type": "stream",
          "name": "stdout",
          "text": [
            "Collecting numpy==1.21.2 (from -r /content/Pyraformer/requirements.txt (line 1))\n",
            "  Downloading numpy-1.21.2-cp310-cp310-manylinux_2_17_x86_64.manylinux2014_x86_64.whl (15.9 MB)\n",
            "\u001b[2K     \u001b[90m━━━━━━━━━━━━━━━━━━━━━━━━━━━━━━━━━━━━━━━━\u001b[0m \u001b[32m15.9/15.9 MB\u001b[0m \u001b[31m39.6 MB/s\u001b[0m eta \u001b[36m0:00:00\u001b[0m\n",
            "\u001b[?25hCollecting pandas==1.3.3 (from -r /content/Pyraformer/requirements.txt (line 2))\n",
            "  Downloading pandas-1.3.3-cp310-cp310-manylinux_2_17_x86_64.manylinux2014_x86_64.whl (11.5 MB)\n",
            "\u001b[2K     \u001b[90m━━━━━━━━━━━━━━━━━━━━━━━━━━━━━━━━━━━━━━━━\u001b[0m \u001b[32m11.5/11.5 MB\u001b[0m \u001b[31m73.3 MB/s\u001b[0m eta \u001b[36m0:00:00\u001b[0m\n",
            "\u001b[?25hCollecting pynvml==11.4.1 (from -r /content/Pyraformer/requirements.txt (line 3))\n",
            "  Downloading pynvml-11.4.1-py3-none-any.whl (46 kB)\n",
            "\u001b[2K     \u001b[90m━━━━━━━━━━━━━━━━━━━━━━━━━━━━━━━━━━━━━━━━\u001b[0m \u001b[32m47.0/47.0 kB\u001b[0m \u001b[31m5.3 MB/s\u001b[0m eta \u001b[36m0:00:00\u001b[0m\n",
            "\u001b[?25hCollecting reformer-pytorch==1.4.3 (from -r /content/Pyraformer/requirements.txt (line 4))\n",
            "  Downloading reformer_pytorch-1.4.3-py3-none-any.whl (16 kB)\n",
            "\u001b[31mERROR: Could not find a version that satisfies the requirement torch==1.8.0 (from versions: 1.11.0, 1.12.0, 1.12.1, 1.13.0, 1.13.1, 2.0.0, 2.0.1)\u001b[0m\u001b[31m\n",
            "\u001b[0m\u001b[31mERROR: No matching distribution found for torch==1.8.0\u001b[0m\u001b[31m\n",
            "\u001b[0m"
          ]
        }
      ]
    },
    {
      "cell_type": "code",
      "source": [
        "!cd /content/Pyraformer; sh scripts/ETTh2.sh"
      ],
      "metadata": {
        "id": "cHGjomTozYI6",
        "colab": {
          "base_uri": "https://localhost:8080/"
        },
        "outputId": "4f6fa9a8-75a0-4475-f52c-cfe8f2e4561e"
      },
      "execution_count": 5,
      "outputs": [
        {
          "output_type": "stream",
          "name": "stdout",
          "text": [
            "[Info] parameters: Namespace(eval=False, data='ETTh2', root_path='./data/ETT/', data_path='ETTh1.csv', univariate=True, input_size=168, predict_step=24, inverse=False, model='Pyraformer', decoder='FC', epoch=5, batch_size=32, pretrain=False, hard_sample_mining=False, dropout=0.05, lr=0.0001, lr_step=0.1, d_model=512, d_inner_hid=512, d_k=128, d_v=128, d_bottleneck=128, n_head=6, n_layer=4, window_size=[4, 4, 4], inner_size=3, CSCM='Bottleneck_Construct', truncate=False, use_tvm=False, iter_num=3, enc_in=1, dec_in=1, covariate_size=4, seq_num=1, embed_type='DataEmbedding')\n",
            "[Info] Number of parameters: 8787200\n",
            "train 8449\n",
            "test 2857\n",
            "[ Epoch 1 ]\n",
            "  - (Training) MSE:  0.21477elapse: 0.731 min\n",
            "test shape:(2857, 24, 1)\n",
            "Epoch 0, mse:0.08972347527742386, mae:0.2402455061674118, rmse:0.2995387613773346, mape:0.17477349936962128, mspe:0.0461651086807251\n",
            "[ Epoch 2 ]\n",
            "  - (Training) MSE:  0.12556elapse: 0.603 min\n",
            "test shape:(2857, 24, 1)\n",
            "Epoch 1, mse:0.03952590003609657, mae:0.15112227201461792, rmse:0.19881121814250946, mape:0.1195339784026146, mspe:0.029450364410877228\n",
            "[ Epoch 3 ]\n",
            "  - (Training) MSE:  0.12123elapse: 0.618 min\n",
            "test shape:(2857, 24, 1)\n",
            "Epoch 2, mse:0.05370305851101875, mae:0.17821764945983887, rmse:0.23173920810222626, mape:0.13302218914031982, mspe:0.031040973961353302\n",
            "[ Epoch 4 ]\n",
            "  - (Training) MSE:  0.12088elapse: 0.625 min\n",
            "test shape:(2857, 24, 1)\n",
            "Epoch 3, mse:0.051905278116464615, mae:0.17453095316886902, rmse:0.2278272956609726, mape:0.13092508912086487, mspe:0.03073820471763611\n",
            "[ Epoch 5 ]\n",
            "  - (Training) MSE:  0.12049elapse: 0.634 min\n",
            "test shape:(2857, 24, 1)\n",
            "Epoch 4, mse:0.052463799715042114, mae:0.1758771687746048, rmse:0.22904977202415466, mape:0.1316457986831665, mspe:0.030768701806664467\n",
            "Iteration best metrics: [0.03952590003609657, 0.15112227201461792, 0.19881121814250946, 0.1195339784026146, 0.029450364410877228]\n",
            "[Info] parameters: Namespace(eval=False, data='ETTh2', root_path='./data/ETT/', data_path='ETTh1.csv', univariate=True, input_size=168, predict_step=24, inverse=False, model='Pyraformer', decoder='FC', epoch=5, batch_size=32, pretrain=False, hard_sample_mining=False, dropout=0.05, lr=0.0001, lr_step=0.1, d_model=512, d_inner_hid=512, d_k=128, d_v=128, d_bottleneck=128, n_head=6, n_layer=4, window_size=[4, 4, 4], inner_size=3, CSCM='Bottleneck_Construct', truncate=False, use_tvm=False, iter_num=3, enc_in=1, dec_in=1, covariate_size=4, seq_num=1, embed_type='DataEmbedding', device=device(type='cuda'))\n",
            "[Info] Number of parameters: 8787200\n",
            "train 8449\n",
            "test 2857\n",
            "[ Epoch 1 ]\n",
            "  - (Training) MSE:  0.21264elapse: 0.657 min\n",
            "test shape:(2857, 24, 1)\n",
            "Epoch 0, mse:0.0883903056383133, mae:0.2434341460466385, rmse:0.29730507731437683, mape:0.17653913795948029, mspe:0.044929489493370056\n",
            "[ Epoch 2 ]\n",
            "  - (Training) MSE:  0.12628elapse: 0.689 min\n",
            "test shape:(2857, 24, 1)\n",
            "Epoch 1, mse:0.05606560409069061, mae:0.18527068197727203, rmse:0.2367817610502243, mape:0.13809841871261597, mspe:0.03272177278995514\n",
            "[ Epoch 3 ]\n",
            "  - (Training) MSE:  0.12246elapse: 0.664 min\n",
            "test shape:(2857, 24, 1)\n",
            "Epoch 2, mse:0.045841868966817856, mae:0.16457103192806244, rmse:0.21410714089870453, mape:0.12584570050239563, mspe:0.030092250555753708\n",
            "[ Epoch 4 ]\n",
            "  - (Training) MSE:  0.12144elapse: 0.675 min\n",
            "test shape:(2857, 24, 1)\n",
            "Epoch 3, mse:0.04999661445617676, mae:0.17323198914527893, rmse:0.22359922528266907, mape:0.13053745031356812, mspe:0.030637159943580627\n",
            "[ Epoch 5 ]\n",
            "  - (Training) MSE:  0.12176elapse: 0.670 min\n",
            "test shape:(2857, 24, 1)\n",
            "Epoch 4, mse:0.050440605729818344, mae:0.17410624027252197, rmse:0.22458985447883606, mape:0.13098764419555664, mspe:0.030663013458251953\n",
            "Iteration best metrics: [0.045841868966817856, 0.16457103192806244, 0.21410714089870453, 0.12584570050239563, 0.030092250555753708]\n",
            "[Info] parameters: Namespace(eval=False, data='ETTh2', root_path='./data/ETT/', data_path='ETTh1.csv', univariate=True, input_size=168, predict_step=24, inverse=False, model='Pyraformer', decoder='FC', epoch=5, batch_size=32, pretrain=False, hard_sample_mining=False, dropout=0.05, lr=0.0001, lr_step=0.1, d_model=512, d_inner_hid=512, d_k=128, d_v=128, d_bottleneck=128, n_head=6, n_layer=4, window_size=[4, 4, 4], inner_size=3, CSCM='Bottleneck_Construct', truncate=False, use_tvm=False, iter_num=3, enc_in=1, dec_in=1, covariate_size=4, seq_num=1, embed_type='DataEmbedding', device=device(type='cuda'))\n",
            "[Info] Number of parameters: 8787200\n",
            "train 8449\n",
            "test 2857\n",
            "[ Epoch 1 ]\n",
            "  - (Training) MSE:  0.21588elapse: 0.669 min\n",
            "test shape:(2857, 24, 1)\n",
            "Epoch 0, mse:0.07609359920024872, mae:0.21827197074890137, rmse:0.27585068345069885, mape:0.16098198294639587, mspe:0.04093984514474869\n",
            "[ Epoch 2 ]\n",
            "  - (Training) MSE:  0.12508elapse: 0.671 min\n",
            "test shape:(2857, 24, 1)\n",
            "Epoch 1, mse:0.05857027322053909, mae:0.19060757756233215, rmse:0.24201296269893646, mape:0.14180272817611694, mspe:0.03348879516124725\n",
            "[ Epoch 3 ]\n",
            "  - (Training) MSE:  0.12185elapse: 0.676 min\n",
            "test shape:(2857, 24, 1)\n",
            "Epoch 2, mse:0.04965784773230553, mae:0.17307056486606598, rmse:0.22284041345119476, mape:0.13075263798236847, mspe:0.03074568882584572\n",
            "[ Epoch 4 ]\n",
            "  - (Training) MSE:  0.12100elapse: 0.669 min\n",
            "test shape:(2857, 24, 1)\n",
            "Epoch 3, mse:0.050072502344846725, mae:0.17318099737167358, rmse:0.22376886010169983, mape:0.13085564970970154, mspe:0.03087598830461502\n",
            "[ Epoch 5 ]\n",
            "  - (Training) MSE:  0.12143elapse: 0.671 min\n",
            "test shape:(2857, 24, 1)\n",
            "Epoch 4, mse:0.04977962002158165, mae:0.17254634201526642, rmse:0.22311346232891083, mape:0.13053737580776215, mspe:0.030883824452757835\n",
            "Iteration best metrics: [0.04965784773230553, 0.17307056486606598, 0.22284041345119476, 0.13075263798236847, 0.03074568882584572]\n",
            "Average Metrics: [0.04500854 0.16292129 0.21191959 0.12537744 0.0300961 ]\n",
            "[Info] parameters: Namespace(eval=False, data='ETTh2', root_path='./data/ETT/', data_path='ETTh1.csv', univariate=True, input_size=168, predict_step=48, inverse=False, model='Pyraformer', decoder='FC', epoch=5, batch_size=32, pretrain=False, hard_sample_mining=False, dropout=0.05, lr=0.0001, lr_step=0.1, d_model=512, d_inner_hid=512, d_k=128, d_v=128, d_bottleneck=128, n_head=6, n_layer=4, window_size=[4, 4, 4], inner_size=3, CSCM='Bottleneck_Construct', truncate=False, use_tvm=False, iter_num=3, enc_in=1, dec_in=1, covariate_size=4, seq_num=1, embed_type='DataEmbedding')\n",
            "[Info] Number of parameters: 8836352\n",
            "train 8425\n",
            "test 2833\n",
            "[ Epoch 1 ]\n",
            "  - (Training) MSE:  0.23169elapse: 0.715 min\n",
            "test shape:(2833, 48, 1)\n",
            "Epoch 0, mse:0.11035028845071793, mae:0.26689305901527405, rmse:0.3321901261806488, mape:0.19817939400672913, mspe:0.06207277625799179\n",
            "[ Epoch 2 ]\n",
            "  - (Training) MSE:  0.15263elapse: 0.663 min\n",
            "test shape:(2833, 48, 1)\n",
            "Epoch 1, mse:0.0895204022526741, mae:0.23560737073421478, rmse:0.2991996109485626, mape:0.17771734297275543, mspe:0.05389981344342232\n",
            "[ Epoch 3 ]\n",
            "  - (Training) MSE:  0.14806elapse: 0.675 min\n",
            "test shape:(2833, 48, 1)\n",
            "Epoch 2, mse:0.10015540570020676, mae:0.2527703642845154, rmse:0.3164733946323395, mape:0.1877126544713974, mspe:0.056656885892152786\n",
            "[ Epoch 4 ]\n",
            "  - (Training) MSE:  0.14715elapse: 0.667 min\n",
            "test shape:(2833, 48, 1)\n",
            "Epoch 3, mse:0.09661933034658432, mae:0.24826154112815857, rmse:0.3108364939689636, mape:0.1849595159292221, mspe:0.05564505606889725\n",
            "[ Epoch 5 ]\n",
            "  - (Training) MSE:  0.14728elapse: 0.669 min\n",
            "test shape:(2833, 48, 1)\n",
            "Epoch 4, mse:0.09771749377250671, mae:0.24992166459560394, rmse:0.31259796023368835, mape:0.18570780754089355, mspe:0.0555557906627655\n",
            "Iteration best metrics: [0.0895204022526741, 0.23560737073421478, 0.2991996109485626, 0.17771734297275543, 0.05389981344342232]\n",
            "[Info] parameters: Namespace(eval=False, data='ETTh2', root_path='./data/ETT/', data_path='ETTh1.csv', univariate=True, input_size=168, predict_step=48, inverse=False, model='Pyraformer', decoder='FC', epoch=5, batch_size=32, pretrain=False, hard_sample_mining=False, dropout=0.05, lr=0.0001, lr_step=0.1, d_model=512, d_inner_hid=512, d_k=128, d_v=128, d_bottleneck=128, n_head=6, n_layer=4, window_size=[4, 4, 4], inner_size=3, CSCM='Bottleneck_Construct', truncate=False, use_tvm=False, iter_num=3, enc_in=1, dec_in=1, covariate_size=4, seq_num=1, embed_type='DataEmbedding', device=device(type='cuda'))\n",
            "[Info] Number of parameters: 8836352\n",
            "train 8425\n",
            "test 2833\n",
            "[ Epoch 1 ]\n",
            "  - (Training) MSE:  0.24150elapse: 0.672 min\n",
            "test shape:(2833, 48, 1)\n",
            "Epoch 0, mse:0.17907366156578064, mae:0.3544711172580719, rmse:0.42317095398902893, mape:0.25650879740715027, mspe:0.08756604790687561\n",
            "[ Epoch 2 ]\n",
            "  - (Training) MSE:  0.15480elapse: 0.672 min\n",
            "test shape:(2833, 48, 1)\n",
            "Epoch 1, mse:0.13872645795345306, mae:0.3088255822658539, rmse:0.3724600076675415, mape:0.22063754498958588, mspe:0.06614946573972702\n",
            "[ Epoch 3 ]\n",
            "  - (Training) MSE:  0.15047elapse: 0.667 min\n",
            "test shape:(2833, 48, 1)\n",
            "Epoch 2, mse:0.1052795797586441, mae:0.26242905855178833, rmse:0.32446813583374023, mape:0.19055704772472382, mspe:0.05399221554398537\n",
            "[ Epoch 4 ]\n",
            "  - (Training) MSE:  0.14882elapse: 0.671 min\n",
            "test shape:(2833, 48, 1)\n",
            "Epoch 3, mse:0.10282948613166809, mae:0.25867345929145813, rmse:0.32067036628723145, mape:0.18819767236709595, mspe:0.053063977509737015\n",
            "[ Epoch 5 ]\n",
            "  - (Training) MSE:  0.14926elapse: 0.669 min\n",
            "test shape:(2833, 48, 1)\n",
            "Epoch 4, mse:0.10542415082454681, mae:0.26198986172676086, rmse:0.3246908485889435, mape:0.1902855783700943, mspe:0.054062217473983765\n",
            "Iteration best metrics: [0.10282948613166809, 0.25867345929145813, 0.32067036628723145, 0.18819767236709595, 0.053063977509737015]\n",
            "[Info] parameters: Namespace(eval=False, data='ETTh2', root_path='./data/ETT/', data_path='ETTh1.csv', univariate=True, input_size=168, predict_step=48, inverse=False, model='Pyraformer', decoder='FC', epoch=5, batch_size=32, pretrain=False, hard_sample_mining=False, dropout=0.05, lr=0.0001, lr_step=0.1, d_model=512, d_inner_hid=512, d_k=128, d_v=128, d_bottleneck=128, n_head=6, n_layer=4, window_size=[4, 4, 4], inner_size=3, CSCM='Bottleneck_Construct', truncate=False, use_tvm=False, iter_num=3, enc_in=1, dec_in=1, covariate_size=4, seq_num=1, embed_type='DataEmbedding', device=device(type='cuda'))\n",
            "[Info] Number of parameters: 8836352\n",
            "train 8425\n",
            "test 2833\n",
            "[ Epoch 1 ]\n",
            "  - (Training) MSE:  0.25129elapse: 0.666 min\n",
            "test shape:(2833, 48, 1)\n",
            "Epoch 0, mse:0.1085587739944458, mae:0.2641362249851227, rmse:0.3294825851917267, mape:0.1953994780778885, mspe:0.05997577682137489\n",
            "[ Epoch 2 ]\n",
            "  - (Training) MSE:  0.15542elapse: 0.668 min\n",
            "test shape:(2833, 48, 1)\n",
            "Epoch 1, mse:0.10097730904817581, mae:0.2524043023586273, rmse:0.31776925921440125, mape:0.1918616145849228, mspe:0.06518145650625229\n",
            "[ Epoch 3 ]\n",
            "  - (Training) MSE:  0.14841elapse: 0.668 min\n",
            "test shape:(2833, 48, 1)\n",
            "Epoch 2, mse:0.10281248390674591, mae:0.25661683082580566, rmse:0.3206438720226288, mape:0.19413740932941437, mspe:0.06578880548477173\n",
            "[ Epoch 4 ]\n",
            "  - (Training) MSE:  0.14798elapse: 0.666 min\n",
            "test shape:(2833, 48, 1)\n",
            "Epoch 3, mse:0.10767563432455063, mae:0.26413655281066895, rmse:0.32813966274261475, mape:0.1974555402994156, mspe:0.06454014778137207\n",
            "[ Epoch 5 ]\n",
            "  - (Training) MSE:  0.14689elapse: 0.670 min\n",
            "test shape:(2833, 48, 1)\n",
            "Epoch 4, mse:0.10692314058542252, mae:0.26263266801834106, rmse:0.3269910514354706, mape:0.19796183705329895, mspe:0.0671452060341835\n",
            "Iteration best metrics: [0.10097730904817581, 0.2524043023586273, 0.31776925921440125, 0.1918616145849228, 0.06518145650625229]\n",
            "Average Metrics: [0.09777573 0.24889504 0.31254641 0.18592554 0.05738175]\n",
            "[Info] parameters: Namespace(eval=False, data='ETTh2', root_path='./data/ETT/', data_path='ETTh1.csv', univariate=True, input_size=168, predict_step=168, inverse=False, model='Pyraformer', decoder='FC', epoch=5, batch_size=32, pretrain=False, hard_sample_mining=False, dropout=0.05, lr=0.0001, lr_step=0.1, d_model=512, d_inner_hid=512, d_k=128, d_v=128, d_bottleneck=128, n_head=6, n_layer=4, window_size=[4, 4, 4], inner_size=3, CSCM='Bottleneck_Construct', truncate=False, use_tvm=False, iter_num=3, enc_in=1, dec_in=1, covariate_size=4, seq_num=1, embed_type='DataEmbedding')\n",
            "[Info] Number of parameters: 9082112\n",
            "train 8305\n",
            "test 2713\n",
            "[ Epoch 1 ]\n",
            "  - (Training) MSE:  0.27920elapse: 0.704 min\n",
            "test shape:(2713, 168, 1)\n",
            "Epoch 0, mse:0.18289397656917572, mae:0.3549082577228546, rmse:0.42766106128692627, mape:0.2512999176979065, mspe:0.08675965666770935\n",
            "[ Epoch 2 ]\n",
            "  - (Training) MSE:  0.19991elapse: 0.657 min\n",
            "test shape:(2713, 168, 1)\n",
            "Epoch 1, mse:0.18120500445365906, mae:0.3529186546802521, rmse:0.42568179965019226, mape:0.2482219785451889, mspe:0.08317667990922928\n",
            "[ Epoch 3 ]\n",
            "  - (Training) MSE:  0.19488elapse: 0.663 min\n",
            "test shape:(2713, 168, 1)\n",
            "Epoch 2, mse:0.1931137591600418, mae:0.36879825592041016, rmse:0.4394471049308777, mape:0.2575820982456207, mspe:0.08607730269432068\n",
            "[ Epoch 4 ]\n",
            "  - (Training) MSE:  0.19446elapse: 0.658 min\n",
            "test shape:(2713, 168, 1)\n",
            "Epoch 3, mse:0.1929648518562317, mae:0.3685993552207947, rmse:0.43927764892578125, mape:0.25754645466804504, mspe:0.08616964519023895\n",
            "[ Epoch 5 ]\n",
            "  - (Training) MSE:  0.19502elapse: 0.662 min\n",
            "test shape:(2713, 168, 1)\n",
            "Epoch 4, mse:0.19384773075580597, mae:0.36955344676971436, rmse:0.4402814209461212, mape:0.2581844627857208, mspe:0.08652904629707336\n",
            "Iteration best metrics: [0.18120500445365906, 0.3529186546802521, 0.42568179965019226, 0.2482219785451889, 0.08317667990922928]\n",
            "[Info] parameters: Namespace(eval=False, data='ETTh2', root_path='./data/ETT/', data_path='ETTh1.csv', univariate=True, input_size=168, predict_step=168, inverse=False, model='Pyraformer', decoder='FC', epoch=5, batch_size=32, pretrain=False, hard_sample_mining=False, dropout=0.05, lr=0.0001, lr_step=0.1, d_model=512, d_inner_hid=512, d_k=128, d_v=128, d_bottleneck=128, n_head=6, n_layer=4, window_size=[4, 4, 4], inner_size=3, CSCM='Bottleneck_Construct', truncate=False, use_tvm=False, iter_num=3, enc_in=1, dec_in=1, covariate_size=4, seq_num=1, embed_type='DataEmbedding', device=device(type='cuda'))\n",
            "[Info] Number of parameters: 9082112\n",
            "train 8305\n",
            "test 2713\n",
            "[ Epoch 1 ]\n",
            "  - (Training) MSE:  0.27195elapse: 0.661 min\n",
            "test shape:(2713, 168, 1)\n",
            "Epoch 0, mse:0.21149437129497528, mae:0.3791506886482239, rmse:0.4598851799964905, mape:0.26872920989990234, mspe:0.09888695925474167\n",
            "[ Epoch 2 ]\n",
            "  - (Training) MSE:  0.19621elapse: 0.657 min\n",
            "test shape:(2713, 168, 1)\n",
            "Epoch 1, mse:0.19931036233901978, mae:0.3713037371635437, rmse:0.4464418888092041, mape:0.26059699058532715, mspe:0.08996903896331787\n",
            "[ Epoch 3 ]\n",
            "  - (Training) MSE:  0.19144elapse: 0.656 min\n",
            "test shape:(2713, 168, 1)\n",
            "Epoch 2, mse:0.22335931658744812, mae:0.3996869623661041, rmse:0.4726090431213379, mape:0.2788678705692291, mspe:0.0985507220029831\n",
            "[ Epoch 4 ]\n",
            "  - (Training) MSE:  0.18990elapse: 0.658 min\n",
            "test shape:(2713, 168, 1)\n",
            "Epoch 3, mse:0.2169303447008133, mae:0.39261630177497864, rmse:0.465757817029953, mape:0.2741771340370178, mspe:0.09607458114624023\n",
            "[ Epoch 5 ]\n",
            "  - (Training) MSE:  0.18977elapse: 0.657 min\n",
            "test shape:(2713, 168, 1)\n",
            "Epoch 4, mse:0.21573078632354736, mae:0.3913291096687317, rmse:0.4644682705402374, mape:0.27330225706100464, mspe:0.0955684557557106\n",
            "Iteration best metrics: [0.19931036233901978, 0.3713037371635437, 0.4464418888092041, 0.26059699058532715, 0.08996903896331787]\n",
            "[Info] parameters: Namespace(eval=False, data='ETTh2', root_path='./data/ETT/', data_path='ETTh1.csv', univariate=True, input_size=168, predict_step=168, inverse=False, model='Pyraformer', decoder='FC', epoch=5, batch_size=32, pretrain=False, hard_sample_mining=False, dropout=0.05, lr=0.0001, lr_step=0.1, d_model=512, d_inner_hid=512, d_k=128, d_v=128, d_bottleneck=128, n_head=6, n_layer=4, window_size=[4, 4, 4], inner_size=3, CSCM='Bottleneck_Construct', truncate=False, use_tvm=False, iter_num=3, enc_in=1, dec_in=1, covariate_size=4, seq_num=1, embed_type='DataEmbedding', device=device(type='cuda'))\n",
            "[Info] Number of parameters: 9082112\n",
            "train 8305\n",
            "test 2713\n",
            "[ Epoch 1 ]\n",
            "  - (Training) MSE:  0.27728elapse: 0.662 min\n",
            "test shape:(2713, 168, 1)\n",
            "Epoch 0, mse:0.17788058519363403, mae:0.3477151691913605, rmse:0.4217589199542999, mape:0.2453230768442154, mspe:0.08232244104146957\n",
            "[ Epoch 2 ]\n",
            "  - (Training) MSE:  0.19921elapse: 0.651 min\n",
            "test shape:(2713, 168, 1)\n",
            "Epoch 1, mse:0.14497944712638855, mae:0.3104819059371948, rmse:0.38076165318489075, mape:0.22032561898231506, mspe:0.06893616914749146\n",
            "[ Epoch 3 ]\n",
            "  - (Training) MSE:  0.19504elapse: 0.642 min\n",
            "test shape:(2713, 168, 1)\n",
            "Epoch 2, mse:0.1791074573993683, mae:0.3523160219192505, rmse:0.42321088910102844, mape:0.24662119150161743, mspe:0.0803566575050354\n",
            "[ Epoch 4 ]\n",
            "  - (Training) MSE:  0.19456elapse: 0.642 min\n",
            "test shape:(2713, 168, 1)\n",
            "Epoch 3, mse:0.18163232505321503, mae:0.3552941679954529, rmse:0.42618343234062195, mape:0.24869154393672943, mspe:0.08146465569734573\n",
            "[ Epoch 5 ]\n",
            "  - (Training) MSE:  0.19476elapse: 0.640 min\n",
            "test shape:(2713, 168, 1)\n",
            "Epoch 4, mse:0.1812763661146164, mae:0.35490739345550537, rmse:0.42576563358306885, mape:0.24831897020339966, mspe:0.08115802705287933\n",
            "Iteration best metrics: [0.14497944712638855, 0.3104819059371948, 0.38076165318489075, 0.22032561898231506, 0.06893616914749146]\n",
            "Average Metrics: [0.17516494 0.34490143 0.41762845 0.2430482  0.08069396]\n",
            "[Info] parameters: Namespace(eval=False, data='ETTh2', root_path='./data/ETT/', data_path='ETTh1.csv', univariate=True, input_size=168, predict_step=336, inverse=False, model='Pyraformer', decoder='FC', epoch=5, batch_size=32, pretrain=False, hard_sample_mining=False, dropout=0.05, lr=0.0001, lr_step=0.1, d_model=512, d_inner_hid=512, d_k=128, d_v=128, d_bottleneck=128, n_head=6, n_layer=4, window_size=[4, 4, 4], inner_size=3, CSCM='Bottleneck_Construct', truncate=False, use_tvm=False, iter_num=3, enc_in=1, dec_in=1, covariate_size=4, seq_num=1, embed_type='DataEmbedding')\n",
            "[Info] Number of parameters: 9426176\n",
            "train 8137\n",
            "test 2545\n",
            "[ Epoch 1 ]\n",
            "  - (Training) MSE:  0.29109elapse: 0.658 min\n",
            "test shape:(2545, 336, 1)\n",
            "Epoch 0, mse:0.22204621136188507, mae:0.3985629677772522, rmse:0.4712177813053131, mape:0.27366864681243896, mspe:0.09425076097249985\n",
            "[ Epoch 2 ]\n",
            "  - (Training) MSE:  0.21360elapse: 0.624 min\n",
            "test shape:(2545, 336, 1)\n",
            "Epoch 1, mse:0.17723117768764496, mae:0.349105566740036, rmse:0.4209883213043213, mape:0.2406136840581894, mspe:0.07684022933244705\n",
            "[ Epoch 3 ]\n",
            "  - (Training) MSE:  0.20883elapse: 0.624 min\n",
            "test shape:(2545, 336, 1)\n",
            "Epoch 2, mse:0.19130858778953552, mae:0.36623671650886536, rmse:0.4373883605003357, mape:0.25134479999542236, mspe:0.08134152740240097\n",
            "[ Epoch 4 ]\n",
            "  - (Training) MSE:  0.20871elapse: 0.623 min\n",
            "test shape:(2545, 336, 1)\n",
            "Epoch 3, mse:0.19040358066558838, mae:0.36528822779655457, rmse:0.43635258078575134, mape:0.2506363093852997, mspe:0.08089210838079453\n",
            "[ Epoch 5 ]\n",
            "  - (Training) MSE:  0.20898elapse: 0.624 min\n",
            "test shape:(2545, 336, 1)\n",
            "Epoch 4, mse:0.18979056179523468, mae:0.36454352736473083, rmse:0.435649573802948, mape:0.2503688335418701, mspe:0.08097674697637558\n",
            "Iteration best metrics: [0.17723117768764496, 0.349105566740036, 0.4209883213043213, 0.2406136840581894, 0.07684022933244705]\n",
            "[Info] parameters: Namespace(eval=False, data='ETTh2', root_path='./data/ETT/', data_path='ETTh1.csv', univariate=True, input_size=168, predict_step=336, inverse=False, model='Pyraformer', decoder='FC', epoch=5, batch_size=32, pretrain=False, hard_sample_mining=False, dropout=0.05, lr=0.0001, lr_step=0.1, d_model=512, d_inner_hid=512, d_k=128, d_v=128, d_bottleneck=128, n_head=6, n_layer=4, window_size=[4, 4, 4], inner_size=3, CSCM='Bottleneck_Construct', truncate=False, use_tvm=False, iter_num=3, enc_in=1, dec_in=1, covariate_size=4, seq_num=1, embed_type='DataEmbedding', device=device(type='cuda'))\n",
            "[Info] Number of parameters: 9426176\n",
            "train 8137\n",
            "test 2545\n",
            "[ Epoch 1 ]\n",
            "Traceback (most recent call last):\n",
            "  File \"/content/Pyraformer/long_range_main.py\", line 384, in <module>\n",
            "    metrics = main(opt, i)\n",
            "  File \"/content/Pyraformer/long_range_main.py\", line 371, in main\n",
            "    best_metrics = train(model, optimizer, scheduler, opt, model_save_dir)\n",
            "  File \"/content/Pyraformer/long_range_main.py\", line 242, in train\n",
            "    train_mse = train_epoch(model, train_dataset, training_dataloader, optimizer, opt, epoch_i)\n",
            "  File \"/content/Pyraformer/long_range_main.py\", line 182, in train_epoch\n",
            "    total_loss += losses.sum().item()\n",
            "KeyboardInterrupt\n",
            "^C\n"
          ]
        }
      ]
    },
    {
      "cell_type": "code",
      "source": [
        "from google.colab import files\n",
        "files.download('/content/Pyraformer/result.txt')"
      ],
      "metadata": {
        "id": "ApHaLYUFYp86",
        "outputId": "c8660f8c-3cc2-4730-80a7-a36919ca640a",
        "colab": {
          "base_uri": "https://localhost:8080/",
          "height": 17
        }
      },
      "execution_count": 6,
      "outputs": [
        {
          "output_type": "display_data",
          "data": {
            "text/plain": [
              "<IPython.core.display.Javascript object>"
            ],
            "application/javascript": [
              "\n",
              "    async function download(id, filename, size) {\n",
              "      if (!google.colab.kernel.accessAllowed) {\n",
              "        return;\n",
              "      }\n",
              "      const div = document.createElement('div');\n",
              "      const label = document.createElement('label');\n",
              "      label.textContent = `Downloading \"${filename}\": `;\n",
              "      div.appendChild(label);\n",
              "      const progress = document.createElement('progress');\n",
              "      progress.max = size;\n",
              "      div.appendChild(progress);\n",
              "      document.body.appendChild(div);\n",
              "\n",
              "      const buffers = [];\n",
              "      let downloaded = 0;\n",
              "\n",
              "      const channel = await google.colab.kernel.comms.open(id);\n",
              "      // Send a message to notify the kernel that we're ready.\n",
              "      channel.send({})\n",
              "\n",
              "      for await (const message of channel.messages) {\n",
              "        // Send a message to notify the kernel that we're ready.\n",
              "        channel.send({})\n",
              "        if (message.buffers) {\n",
              "          for (const buffer of message.buffers) {\n",
              "            buffers.push(buffer);\n",
              "            downloaded += buffer.byteLength;\n",
              "            progress.value = downloaded;\n",
              "          }\n",
              "        }\n",
              "      }\n",
              "      const blob = new Blob(buffers, {type: 'application/binary'});\n",
              "      const a = document.createElement('a');\n",
              "      a.href = window.URL.createObjectURL(blob);\n",
              "      a.download = filename;\n",
              "      div.appendChild(a);\n",
              "      a.click();\n",
              "      div.remove();\n",
              "    }\n",
              "  "
            ]
          },
          "metadata": {}
        },
        {
          "output_type": "display_data",
          "data": {
            "text/plain": [
              "<IPython.core.display.Javascript object>"
            ],
            "application/javascript": [
              "download(\"download_856f9823-9a51-4833-8617-1fc4f7a9afb1\", \"result.txt\", 211)"
            ]
          },
          "metadata": {}
        }
      ]
    }
  ]
}