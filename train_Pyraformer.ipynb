{
  "nbformat": 4,
  "nbformat_minor": 0,
  "metadata": {
    "colab": {
      "provenance": [],
      "gpuType": "T4",
      "include_colab_link": true
    },
    "kernelspec": {
      "name": "python3",
      "display_name": "Python 3"
    },
    "language_info": {
      "name": "python"
    },
    "accelerator": "GPU",
    "gpuClass": "standard"
  },
  "cells": [
    {
      "cell_type": "markdown",
      "metadata": {
        "id": "view-in-github",
        "colab_type": "text"
      },
      "source": [
        "<a href=\"https://colab.research.google.com/github/whoami-Lory271/thesis-project/blob/main/train_Pyraformer.ipynb\" target=\"_parent\"><img src=\"https://colab.research.google.com/assets/colab-badge.svg\" alt=\"Open In Colab\"/></a>"
      ]
    },
    {
      "cell_type": "markdown",
      "source": [
        "# Training CoST model"
      ],
      "metadata": {
        "id": "Gh2L5z66W2X6"
      }
    },
    {
      "cell_type": "code",
      "execution_count": 1,
      "metadata": {
        "id": "1LWptcrfWeZG",
        "outputId": "fd97c45c-2ceb-43e5-c4a9-b9b645ac9563",
        "colab": {
          "base_uri": "https://localhost:8080/"
        }
      },
      "outputs": [
        {
          "output_type": "stream",
          "name": "stdout",
          "text": [
            "Cloning into 'Pyraformer'...\n",
            "remote: Enumerating objects: 119, done.\u001b[K\n",
            "remote: Counting objects: 100% (53/53), done.\u001b[K\n",
            "remote: Compressing objects: 100% (39/39), done.\u001b[K\n",
            "remote: Total 119 (delta 28), reused 37 (delta 14), pack-reused 66\u001b[K\n",
            "Receiving objects: 100% (119/119), 81.23 MiB | 23.00 MiB/s, done.\n",
            "Resolving deltas: 100% (47/47), done.\n"
          ]
        }
      ],
      "source": [
        "!git clone -b univariate https://github.com/whoami-Lory271/Pyraformer"
      ]
    },
    {
      "cell_type": "code",
      "source": [
        "from google.colab import drive\n",
        "drive.mount('/content/drive')"
      ],
      "metadata": {
        "id": "5EIFz57FW_Wh",
        "outputId": "eafc601e-5993-40c1-9ad1-f18db7840c60",
        "colab": {
          "base_uri": "https://localhost:8080/"
        }
      },
      "execution_count": 2,
      "outputs": [
        {
          "output_type": "stream",
          "name": "stdout",
          "text": [
            "Mounted at /content/drive\n"
          ]
        }
      ]
    },
    {
      "cell_type": "code",
      "source": [
        "!cp \"/content/drive/MyDrive/Tesi/code/datasets/electricity/LD2011_2014.txt\" \"/content/Pyraformer/data/\"\n",
        "!mkdir /content/Pyraformer/data/ETT\n",
        "!cp \"/content/drive/MyDrive/Tesi/code/datasets/ETT/ETTh1.csv\" \"/content/Pyraformer/data/ETT\"\n",
        "!cp \"/content/drive/MyDrive/Tesi/code/datasets/ETT/ETTm1.csv\" \"/content/Pyraformer/data/ETT\"\n",
        "!cp \"/content/drive/MyDrive/Tesi/code/datasets/ETT/ETTh2.csv\" \"/content/Pyraformer/data/ETT\""
      ],
      "metadata": {
        "id": "0hTJksSZXPcX"
      },
      "execution_count": 3,
      "outputs": []
    },
    {
      "cell_type": "code",
      "source": [
        "!pip install -r /content/Pyraformer/requirements.txt"
      ],
      "metadata": {
        "id": "x5qeqzGyXkx9",
        "outputId": "4394a390-5503-4d81-d27c-6e0b0147c7f7",
        "colab": {
          "base_uri": "https://localhost:8080/"
        }
      },
      "execution_count": 4,
      "outputs": [
        {
          "output_type": "stream",
          "name": "stdout",
          "text": [
            "Collecting numpy==1.21.2 (from -r /content/Pyraformer/requirements.txt (line 1))\n",
            "  Downloading numpy-1.21.2-cp310-cp310-manylinux_2_17_x86_64.manylinux2014_x86_64.whl (15.9 MB)\n",
            "\u001b[2K     \u001b[90m━━━━━━━━━━━━━━━━━━━━━━━━━━━━━━━━━━━━━━━━\u001b[0m \u001b[32m15.9/15.9 MB\u001b[0m \u001b[31m43.7 MB/s\u001b[0m eta \u001b[36m0:00:00\u001b[0m\n",
            "\u001b[?25hCollecting pandas==1.3.3 (from -r /content/Pyraformer/requirements.txt (line 2))\n",
            "  Downloading pandas-1.3.3-cp310-cp310-manylinux_2_17_x86_64.manylinux2014_x86_64.whl (11.5 MB)\n",
            "\u001b[2K     \u001b[90m━━━━━━━━━━━━━━━━━━━━━━━━━━━━━━━━━━━━━━━━\u001b[0m \u001b[32m11.5/11.5 MB\u001b[0m \u001b[31m72.1 MB/s\u001b[0m eta \u001b[36m0:00:00\u001b[0m\n",
            "\u001b[?25hCollecting pynvml==11.4.1 (from -r /content/Pyraformer/requirements.txt (line 3))\n",
            "  Downloading pynvml-11.4.1-py3-none-any.whl (46 kB)\n",
            "\u001b[2K     \u001b[90m━━━━━━━━━━━━━━━━━━━━━━━━━━━━━━━━━━━━━━━━\u001b[0m \u001b[32m47.0/47.0 kB\u001b[0m \u001b[31m5.2 MB/s\u001b[0m eta \u001b[36m0:00:00\u001b[0m\n",
            "\u001b[?25hCollecting reformer-pytorch==1.4.3 (from -r /content/Pyraformer/requirements.txt (line 4))\n",
            "  Downloading reformer_pytorch-1.4.3-py3-none-any.whl (16 kB)\n",
            "\u001b[31mERROR: Could not find a version that satisfies the requirement torch==1.8.0 (from versions: 1.11.0, 1.12.0, 1.12.1, 1.13.0, 1.13.1, 2.0.0, 2.0.1)\u001b[0m\u001b[31m\n",
            "\u001b[0m\u001b[31mERROR: No matching distribution found for torch==1.8.0\u001b[0m\u001b[31m\n",
            "\u001b[0m"
          ]
        }
      ]
    },
    {
      "cell_type": "code",
      "source": [
        "!cd /content/Pyraformer; sh scripts/ETTm1.sh"
      ],
      "metadata": {
        "id": "cHGjomTozYI6",
        "colab": {
          "base_uri": "https://localhost:8080/"
        },
        "outputId": "c47f4fd4-a1e1-48bd-bf6d-fe1fdddd84f4"
      },
      "execution_count": 5,
      "outputs": [
        {
          "output_type": "stream",
          "name": "stdout",
          "text": [
            "[Info] parameters: Namespace(eval=False, data='ETTm1', root_path='./data/ETT/', data_path='ETTm1.csv', univariate=True, input_size=384, predict_step=24, inverse=False, model='Pyraformer', decoder='FC', epoch=5, batch_size=32, pretrain=False, hard_sample_mining=False, dropout=0.2, lr=0.0001, lr_step=0.1, d_model=256, d_inner_hid=512, d_k=64, d_v=64, d_bottleneck=64, n_head=6, n_layer=4, window_size=[5, 5, 5], inner_size=3, CSCM='Bottleneck_Construct', truncate=False, use_tvm=False, iter_num=3, enc_in=1, dec_in=1, covariate_size=4, seq_num=1, embed_type='DataEmbedding')\n",
            "[Info] Number of parameters: 2752128\n",
            "train 34153\n",
            "test 11497\n",
            "[ Epoch 1 ]\n",
            "  - (Training) MSE:  0.19291elapse: 3.386 min\n",
            "test shape:(11497, 24, 1)\n",
            "Epoch 0, mse:0.019764989614486694, mae:0.10673186182975769, rmse:0.14058801531791687, mape:0.0854896754026413, mspe:0.014317363500595093\n",
            "[ Epoch 2 ]\n",
            "  - (Training) MSE:  0.09188elapse: 3.340 min\n",
            "test shape:(11497, 24, 1)\n",
            "Epoch 1, mse:0.012601629830896854, mae:0.08602342754602432, rmse:0.1122569814324379, mape:0.0731615424156189, mspe:0.01223713532090187\n",
            "[ Epoch 3 ]\n",
            "  - (Training) MSE:  0.08573elapse: 3.339 min\n",
            "test shape:(11497, 24, 1)\n",
            "Epoch 2, mse:0.012228335253894329, mae:0.0849764496088028, rmse:0.11058180034160614, mape:0.07150425761938095, mspe:0.011241456493735313\n",
            "[ Epoch 4 ]\n",
            "  - (Training) MSE:  0.08482elapse: 3.335 min\n",
            "test shape:(11497, 24, 1)\n",
            "Epoch 3, mse:0.01202112715691328, mae:0.08339131623506546, rmse:0.10964090377092361, mape:0.0695023313164711, mspe:0.010617253370583057\n",
            "[ Epoch 5 ]\n",
            "  - (Training) MSE:  0.08488elapse: 3.331 min\n",
            "test shape:(11497, 24, 1)\n",
            "Epoch 4, mse:0.012052739970386028, mae:0.08345633000135422, rmse:0.10978496819734573, mape:0.06954506039619446, mspe:0.010650914162397385\n",
            "Iteration best metrics: [0.01202112715691328, 0.08339131623506546, 0.10964090377092361, 0.0695023313164711, 0.010617253370583057]\n",
            "[Info] parameters: Namespace(eval=False, data='ETTm1', root_path='./data/ETT/', data_path='ETTm1.csv', univariate=True, input_size=384, predict_step=24, inverse=False, model='Pyraformer', decoder='FC', epoch=5, batch_size=32, pretrain=False, hard_sample_mining=False, dropout=0.2, lr=0.0001, lr_step=0.1, d_model=256, d_inner_hid=512, d_k=64, d_v=64, d_bottleneck=64, n_head=6, n_layer=4, window_size=[5, 5, 5], inner_size=3, CSCM='Bottleneck_Construct', truncate=False, use_tvm=False, iter_num=3, enc_in=1, dec_in=1, covariate_size=4, seq_num=1, embed_type='DataEmbedding', device=device(type='cuda'))\n",
            "[Info] Number of parameters: 2752128\n",
            "train 34153\n",
            "test 11497\n",
            "[ Epoch 1 ]\n",
            "  - (Training) MSE:  0.19454elapse: 3.333 min\n",
            "test shape:(11497, 24, 1)\n",
            "Epoch 0, mse:0.01649681106209755, mae:0.09940751641988754, rmse:0.12843991816043854, mape:0.08208408206701279, mspe:0.014000778086483479\n",
            "[ Epoch 2 ]\n",
            "  - (Training) MSE:  0.08918elapse: 3.331 min\n",
            "test shape:(11497, 24, 1)\n",
            "Epoch 1, mse:0.013246625661849976, mae:0.0880880355834961, rmse:0.11509398370981216, mape:0.07302800565958023, mspe:0.011299130506813526\n",
            "[ Epoch 3 ]\n",
            "  - (Training) MSE:  0.08309elapse: 3.333 min\n",
            "test shape:(11497, 24, 1)\n",
            "Epoch 2, mse:0.012875736691057682, mae:0.08624226599931717, rmse:0.11347130686044693, mape:0.07134801894426346, mspe:0.010944429785013199\n",
            "[ Epoch 4 ]\n",
            "  - (Training) MSE:  0.08274elapse: 3.337 min\n",
            "test shape:(11497, 24, 1)\n",
            "Epoch 3, mse:0.013022535480558872, mae:0.0868125706911087, rmse:0.11411632597446442, mape:0.07172847539186478, mspe:0.01097186654806137\n",
            "[ Epoch 5 ]\n",
            "  - (Training) MSE:  0.08242elapse: 3.335 min\n",
            "test shape:(11497, 24, 1)\n",
            "Epoch 4, mse:0.013011587783694267, mae:0.08687896281480789, rmse:0.11406834423542023, mape:0.07191632688045502, mspe:0.011060705408453941\n",
            "Iteration best metrics: [0.012875736691057682, 0.08624226599931717, 0.11347130686044693, 0.07134801894426346, 0.010944429785013199]\n",
            "[Info] parameters: Namespace(eval=False, data='ETTm1', root_path='./data/ETT/', data_path='ETTm1.csv', univariate=True, input_size=384, predict_step=24, inverse=False, model='Pyraformer', decoder='FC', epoch=5, batch_size=32, pretrain=False, hard_sample_mining=False, dropout=0.2, lr=0.0001, lr_step=0.1, d_model=256, d_inner_hid=512, d_k=64, d_v=64, d_bottleneck=64, n_head=6, n_layer=4, window_size=[5, 5, 5], inner_size=3, CSCM='Bottleneck_Construct', truncate=False, use_tvm=False, iter_num=3, enc_in=1, dec_in=1, covariate_size=4, seq_num=1, embed_type='DataEmbedding', device=device(type='cuda'))\n",
            "[Info] Number of parameters: 2752128\n",
            "train 34153\n",
            "test 11497\n",
            "[ Epoch 1 ]\n",
            "  - (Training) MSE:  0.18580elapse: 3.336 min\n",
            "test shape:(11497, 24, 1)\n",
            "Epoch 0, mse:0.01444488950073719, mae:0.0922921821475029, rmse:0.12018689513206482, mape:0.07913029938936234, mspe:0.014971151947975159\n",
            "[ Epoch 2 ]\n",
            "  - (Training) MSE:  0.08040elapse: 3.336 min\n",
            "test shape:(11497, 24, 1)\n",
            "Epoch 1, mse:0.014649767428636551, mae:0.09545207023620605, rmse:0.12103622406721115, mape:0.08191822469234467, mspe:0.01478820014744997\n",
            "[ Epoch 3 ]\n",
            "  - (Training) MSE:  0.07509elapse: 3.332 min\n",
            "test shape:(11497, 24, 1)\n",
            "Epoch 2, mse:0.012570139952003956, mae:0.08525382727384567, rmse:0.11211663484573364, mape:0.07281512767076492, mspe:0.012604688294231892\n",
            "[ Epoch 4 ]\n",
            "  - (Training) MSE:  0.07454elapse: 3.331 min\n",
            "test shape:(11497, 24, 1)\n",
            "Epoch 3, mse:0.012334239669144154, mae:0.08373747766017914, rmse:0.11105962097644806, mape:0.07058513164520264, mspe:0.011681819334626198\n",
            "[ Epoch 5 ]\n",
            "  - (Training) MSE:  0.07449elapse: 3.333 min\n",
            "test shape:(11497, 24, 1)\n",
            "Epoch 4, mse:0.012348511256277561, mae:0.08394830673933029, rmse:0.11112385243177414, mape:0.07084355503320694, mspe:0.011739490553736687\n",
            "Iteration best metrics: [0.012334239669144154, 0.08373747766017914, 0.11105962097644806, 0.07058513164520264, 0.011681819334626198]\n",
            "Average Metrics: [0.01241037 0.08445702 0.11139061 0.07047849 0.01108117]\n",
            "[Info] parameters: Namespace(eval=False, data='ETTm1', root_path='./data/ETT/', data_path='ETTm1.csv', univariate=True, input_size=384, predict_step=48, inverse=False, model='Pyraformer', decoder='FC', epoch=5, batch_size=32, pretrain=False, hard_sample_mining=False, dropout=0.2, lr=0.0001, lr_step=0.1, d_model=256, d_inner_hid=512, d_k=64, d_v=64, d_bottleneck=64, n_head=6, n_layer=4, window_size=[5, 5, 5], inner_size=3, CSCM='Bottleneck_Construct', truncate=False, use_tvm=False, iter_num=3, enc_in=1, dec_in=1, covariate_size=4, seq_num=1, embed_type='DataEmbedding')\n",
            "[Info] Number of parameters: 2776704\n",
            "train 34129\n",
            "test 11473\n",
            "[ Epoch 1 ]\n",
            "  - (Training) MSE:  0.21455elapse: 3.368 min\n",
            "test shape:(11473, 48, 1)\n",
            "Epoch 0, mse:0.025440767407417297, mae:0.121995709836483, rmse:0.15950162708759308, mape:0.1009443923830986, mspe:0.0225235503166914\n",
            "[ Epoch 2 ]\n",
            "  - (Training) MSE:  0.11003elapse: 3.328 min\n",
            "test shape:(11473, 48, 1)\n",
            "Epoch 1, mse:0.02111634612083435, mae:0.11158836632966995, rmse:0.14531464874744415, mape:0.09197092056274414, mspe:0.01767606846988201\n",
            "[ Epoch 3 ]\n",
            "  - (Training) MSE:  0.10350elapse: 3.329 min\n",
            "test shape:(11473, 48, 1)\n",
            "Epoch 2, mse:0.02152208238840103, mae:0.11086367815732956, rmse:0.1467040628194809, mape:0.08997176587581635, mspe:0.017138000577688217\n",
            "[ Epoch 4 ]\n",
            "  - (Training) MSE:  0.10264elapse: 3.329 min\n",
            "test shape:(11473, 48, 1)\n",
            "Epoch 3, mse:0.02172752656042576, mae:0.11106298863887787, rmse:0.1474025994539261, mape:0.08962296694517136, mspe:0.01688184030354023\n",
            "[ Epoch 5 ]\n",
            "  - (Training) MSE:  0.10271elapse: 3.332 min\n",
            "test shape:(11473, 48, 1)\n",
            "Epoch 4, mse:0.021539507433772087, mae:0.11064308136701584, rmse:0.14676344394683838, mape:0.08933103084564209, mspe:0.016735270619392395\n",
            "Iteration best metrics: [0.02111634612083435, 0.11158836632966995, 0.14531464874744415, 0.09197092056274414, 0.01767606846988201]\n",
            "[Info] parameters: Namespace(eval=False, data='ETTm1', root_path='./data/ETT/', data_path='ETTm1.csv', univariate=True, input_size=384, predict_step=48, inverse=False, model='Pyraformer', decoder='FC', epoch=5, batch_size=32, pretrain=False, hard_sample_mining=False, dropout=0.2, lr=0.0001, lr_step=0.1, d_model=256, d_inner_hid=512, d_k=64, d_v=64, d_bottleneck=64, n_head=6, n_layer=4, window_size=[5, 5, 5], inner_size=3, CSCM='Bottleneck_Construct', truncate=False, use_tvm=False, iter_num=3, enc_in=1, dec_in=1, covariate_size=4, seq_num=1, embed_type='DataEmbedding', device=device(type='cuda'))\n",
            "[Info] Number of parameters: 2776704\n",
            "train 34129\n",
            "test 11473\n",
            "[ Epoch 1 ]\n",
            "  - (Training) MSE:  0.21048elapse: 3.327 min\n",
            "test shape:(11473, 48, 1)\n",
            "Epoch 0, mse:0.03145681321620941, mae:0.1382162719964981, rmse:0.1773606836795807, mape:0.10975600779056549, mspe:0.022000879049301147\n",
            "[ Epoch 2 ]\n",
            "  - (Training) MSE:  0.11344elapse: 3.324 min\n",
            "test shape:(11473, 48, 1)\n",
            "Epoch 1, mse:0.022711049765348434, mae:0.11435667425394058, rmse:0.1507018506526947, mape:0.09188467264175415, mspe:0.017310254275798798\n",
            "[ Epoch 3 ]\n",
            "  - (Training) MSE:  0.10753elapse: 3.326 min\n",
            "test shape:(11473, 48, 1)\n",
            "Epoch 2, mse:0.023481879383325577, mae:0.11576595902442932, rmse:0.153237983584404, mape:0.09161998331546783, mspe:0.016668887808918953\n",
            "[ Epoch 4 ]\n",
            "  - (Training) MSE:  0.10646elapse: 3.329 min\n",
            "test shape:(11473, 48, 1)\n",
            "Epoch 3, mse:0.02364485152065754, mae:0.11600583791732788, rmse:0.15376882255077362, mape:0.091641366481781, mspe:0.016633115708827972\n",
            "[ Epoch 5 ]\n",
            "  - (Training) MSE:  0.10650elapse: 3.331 min\n",
            "test shape:(11473, 48, 1)\n",
            "Epoch 4, mse:0.023735109716653824, mae:0.11622123420238495, rmse:0.15406203269958496, mape:0.09175554662942886, mspe:0.016693973913788795\n",
            "Iteration best metrics: [0.022711049765348434, 0.11435667425394058, 0.1507018506526947, 0.09188467264175415, 0.017310254275798798]\n",
            "[Info] parameters: Namespace(eval=False, data='ETTm1', root_path='./data/ETT/', data_path='ETTm1.csv', univariate=True, input_size=384, predict_step=48, inverse=False, model='Pyraformer', decoder='FC', epoch=5, batch_size=32, pretrain=False, hard_sample_mining=False, dropout=0.2, lr=0.0001, lr_step=0.1, d_model=256, d_inner_hid=512, d_k=64, d_v=64, d_bottleneck=64, n_head=6, n_layer=4, window_size=[5, 5, 5], inner_size=3, CSCM='Bottleneck_Construct', truncate=False, use_tvm=False, iter_num=3, enc_in=1, dec_in=1, covariate_size=4, seq_num=1, embed_type='DataEmbedding', device=device(type='cuda'))\n",
            "[Info] Number of parameters: 2776704\n",
            "train 34129\n",
            "test 11473\n",
            "[ Epoch 1 ]\n",
            "  - (Training) MSE:  0.21328elapse: 3.325 min\n",
            "test shape:(11473, 48, 1)\n",
            "Epoch 0, mse:0.02489936165511608, mae:0.12500447034835815, rmse:0.15779531002044678, mape:0.10698476433753967, mspe:0.024736063554883003\n",
            "[ Epoch 2 ]\n",
            "  - (Training) MSE:  0.11626elapse: 3.328 min\n",
            "test shape:(11473, 48, 1)\n",
            "Epoch 1, mse:0.022315749898552895, mae:0.11188571900129318, rmse:0.14938457310199738, mape:0.08956017345190048, mspe:0.016777588054537773\n",
            "[ Epoch 3 ]\n",
            "  - (Training) MSE:  0.10956elapse: 3.326 min\n",
            "test shape:(11473, 48, 1)\n",
            "Epoch 2, mse:0.021466797217726707, mae:0.10952653735876083, rmse:0.14651551842689514, mape:0.08806714415550232, mspe:0.016285477206110954\n",
            "[ Epoch 4 ]\n",
            "  - (Training) MSE:  0.10889elapse: 3.328 min\n",
            "test shape:(11473, 48, 1)\n",
            "Epoch 3, mse:0.020869562402367592, mae:0.10835462808609009, rmse:0.14446301758289337, mape:0.08789365738630295, mspe:0.016462214291095734\n",
            "[ Epoch 5 ]\n",
            "  - (Training) MSE:  0.10900elapse: 3.325 min\n",
            "test shape:(11473, 48, 1)\n",
            "Epoch 4, mse:0.02096789889037609, mae:0.10857322067022324, rmse:0.1448029726743698, mape:0.08791908621788025, mspe:0.016402937471866608\n",
            "Iteration best metrics: [0.020869562402367592, 0.10835462808609009, 0.14446301758289337, 0.08789365738630295, 0.016462214291095734]\n",
            "Average Metrics: [0.02156565 0.11143322 0.14682651 0.09058308 0.01714951]\n",
            "[Info] parameters: Namespace(eval=False, data='ETTm1', root_path='./data/ETT/', data_path='ETTm1.csv', univariate=True, input_size=384, predict_step=96, inverse=False, model='Pyraformer', decoder='FC', epoch=5, batch_size=32, pretrain=False, hard_sample_mining=False, dropout=0.2, lr=0.0001, lr_step=0.1, d_model=256, d_inner_hid=512, d_k=64, d_v=64, d_bottleneck=64, n_head=6, n_layer=4, window_size=[5, 5, 5], inner_size=3, CSCM='Bottleneck_Construct', truncate=False, use_tvm=False, iter_num=3, enc_in=1, dec_in=1, covariate_size=4, seq_num=1, embed_type='DataEmbedding')\n",
            "[Info] Number of parameters: 2825856\n",
            "train 34081\n",
            "test 11425\n",
            "[ Epoch 1 ]\n",
            "  - (Training) MSE:  0.23127elapse: 3.354 min\n",
            "test shape:(11425, 96, 1)\n",
            "Epoch 0, mse:0.05215669423341751, mae:0.1764206439256668, rmse:0.22837840020656586, mape:0.1342514604330063, mspe:0.033228397369384766\n",
            "[ Epoch 2 ]\n",
            "  - (Training) MSE:  0.13765elapse: 3.326 min\n",
            "test shape:(11425, 96, 1)\n",
            "Epoch 1, mse:0.05043330416083336, mae:0.17380596697330475, rmse:0.22457361221313477, mape:0.12983255088329315, mspe:0.029092751443386078\n",
            "[ Epoch 3 ]\n",
            "  - (Training) MSE:  0.13098elapse: 3.328 min\n",
            "test shape:(11425, 96, 1)\n",
            "Epoch 2, mse:0.04862232506275177, mae:0.16947592794895172, rmse:0.22050470113754272, mape:0.12723344564437866, mspe:0.028407204896211624\n",
            "[ Epoch 4 ]\n",
            "  - (Training) MSE:  0.13048elapse: 3.325 min\n",
            "test shape:(11425, 96, 1)\n",
            "Epoch 3, mse:0.050264835357666016, mae:0.17296217381954193, rmse:0.22419820725917816, mape:0.1291903555393219, mspe:0.0287293903529644\n",
            "[ Epoch 5 ]\n",
            "  - (Training) MSE:  0.13017elapse: 3.321 min\n",
            "test shape:(11425, 96, 1)\n",
            "Epoch 4, mse:0.05032418295741081, mae:0.17305926978588104, rmse:0.22433051466941833, mape:0.12922659516334534, mspe:0.02872459590435028\n",
            "Iteration best metrics: [0.04862232506275177, 0.16947592794895172, 0.22050470113754272, 0.12723344564437866, 0.028407204896211624]\n",
            "[Info] parameters: Namespace(eval=False, data='ETTm1', root_path='./data/ETT/', data_path='ETTm1.csv', univariate=True, input_size=384, predict_step=96, inverse=False, model='Pyraformer', decoder='FC', epoch=5, batch_size=32, pretrain=False, hard_sample_mining=False, dropout=0.2, lr=0.0001, lr_step=0.1, d_model=256, d_inner_hid=512, d_k=64, d_v=64, d_bottleneck=64, n_head=6, n_layer=4, window_size=[5, 5, 5], inner_size=3, CSCM='Bottleneck_Construct', truncate=False, use_tvm=False, iter_num=3, enc_in=1, dec_in=1, covariate_size=4, seq_num=1, embed_type='DataEmbedding', device=device(type='cuda'))\n",
            "[Info] Number of parameters: 2825856\n",
            "train 34081\n",
            "test 11425\n",
            "[ Epoch 1 ]\n",
            "  - (Training) MSE:  0.22884elapse: 3.329 min\n",
            "test shape:(11425, 96, 1)\n",
            "Epoch 0, mse:0.03774827718734741, mae:0.15195870399475098, rmse:0.1942891627550125, mape:0.12574052810668945, mspe:0.03292213752865791\n",
            "[ Epoch 2 ]\n",
            "  - (Training) MSE:  0.13877elapse: 3.326 min\n",
            "test shape:(11425, 96, 1)\n",
            "Epoch 1, mse:0.047774311155080795, mae:0.16804660856723785, rmse:0.21857334673404694, mape:0.12693072855472565, mspe:0.02848943881690502\n",
            "[ Epoch 3 ]\n",
            "  - (Training) MSE:  0.13243elapse: 3.328 min\n",
            "test shape:(11425, 96, 1)\n",
            "Epoch 2, mse:0.0446343831717968, mae:0.1613539755344391, rmse:0.21126851439476013, mape:0.1233484223484993, mspe:0.027870649471879005\n",
            "[ Epoch 4 ]\n",
            "  - (Training) MSE:  0.13186elapse: 3.327 min\n",
            "test shape:(11425, 96, 1)\n",
            "Epoch 3, mse:0.0444437600672245, mae:0.16105884313583374, rmse:0.210816890001297, mape:0.12290923297405243, mspe:0.02763466164469719\n",
            "[ Epoch 5 ]\n",
            "  - (Training) MSE:  0.13170elapse: 3.327 min\n",
            "test shape:(11425, 96, 1)\n",
            "Epoch 4, mse:0.044171303510665894, mae:0.1605585515499115, rmse:0.2101697027683258, mape:0.12264107912778854, mspe:0.027523605152964592\n",
            "Iteration best metrics: [0.03774827718734741, 0.15195870399475098, 0.1942891627550125, 0.12574052810668945, 0.03292213752865791]\n",
            "[Info] parameters: Namespace(eval=False, data='ETTm1', root_path='./data/ETT/', data_path='ETTm1.csv', univariate=True, input_size=384, predict_step=96, inverse=False, model='Pyraformer', decoder='FC', epoch=5, batch_size=32, pretrain=False, hard_sample_mining=False, dropout=0.2, lr=0.0001, lr_step=0.1, d_model=256, d_inner_hid=512, d_k=64, d_v=64, d_bottleneck=64, n_head=6, n_layer=4, window_size=[5, 5, 5], inner_size=3, CSCM='Bottleneck_Construct', truncate=False, use_tvm=False, iter_num=3, enc_in=1, dec_in=1, covariate_size=4, seq_num=1, embed_type='DataEmbedding', device=device(type='cuda'))\n",
            "[Info] Number of parameters: 2825856\n",
            "train 34081\n",
            "test 11425\n",
            "[ Epoch 1 ]\n",
            "  - (Training) MSE:  0.23634elapse: 3.329 min\n",
            "test shape:(11425, 96, 1)\n",
            "Epoch 0, mse:0.06704716384410858, mae:0.2058311104774475, rmse:0.2589346766471863, mape:0.15070165693759918, mspe:0.03572121262550354\n",
            "[ Epoch 2 ]\n",
            "  - (Training) MSE:  0.14013elapse: 3.326 min\n",
            "test shape:(11425, 96, 1)\n",
            "Epoch 1, mse:0.05050517991185188, mae:0.1741202473640442, rmse:0.22473357617855072, mape:0.12961231172084808, mspe:0.028666365891695023\n",
            "[ Epoch 3 ]\n",
            "  - (Training) MSE:  0.13292elapse: 3.329 min\n",
            "test shape:(11425, 96, 1)\n",
            "Epoch 2, mse:0.0437290258705616, mae:0.1602044403553009, rmse:0.20911486446857452, mape:0.12105654180049896, mspe:0.0265286173671484\n",
            "[ Epoch 4 ]\n",
            "  - (Training) MSE:  0.13243elapse: 3.327 min\n",
            "test shape:(11425, 96, 1)\n",
            "Epoch 3, mse:0.04255485162138939, mae:0.15745887160301208, rmse:0.20628827810287476, mape:0.11957921832799911, mspe:0.026374727487564087\n",
            "[ Epoch 5 ]\n",
            "  - (Training) MSE:  0.13226elapse: 3.326 min\n",
            "test shape:(11425, 96, 1)\n",
            "Epoch 4, mse:0.0424514077603817, mae:0.1572795808315277, rmse:0.20603738725185394, mape:0.11950041353702545, mspe:0.026395397260785103\n",
            "Iteration best metrics: [0.0424514077603817, 0.1572795808315277, 0.20603738725185394, 0.11950041353702545, 0.026395397260785103]\n",
            "Average Metrics: [0.04294067 0.1595714  0.20694375 0.12415813 0.02924158]\n",
            "[Info] parameters: Namespace(eval=False, data='ETTm1', root_path='./data/ETT/', data_path='ETTm1.csv', univariate=True, input_size=384, predict_step=288, inverse=False, model='Pyraformer', decoder='FC', epoch=5, batch_size=32, pretrain=False, hard_sample_mining=False, dropout=0.2, lr=0.0001, lr_step=0.1, d_model=256, d_inner_hid=512, d_k=64, d_v=64, d_bottleneck=64, n_head=6, n_layer=4, window_size=[5, 5, 5], inner_size=3, CSCM='Bottleneck_Construct', truncate=False, use_tvm=False, iter_num=3, enc_in=1, dec_in=1, covariate_size=4, seq_num=1, embed_type='DataEmbedding')\n",
            "[Info] Number of parameters: 3022464\n",
            "train 33889\n",
            "test 11233\n",
            "[ Epoch 1 ]\n",
            "  - (Training) MSE:  0.27872elapse: 3.346 min\n",
            "test shape:(11233, 288, 1)\n",
            "Epoch 0, mse:0.18151667714118958, mae:0.36133769154548645, rmse:0.42604774236679077, mape:0.2597586214542389, mspe:0.08887743949890137\n",
            "[ Epoch 2 ]\n",
            "  - (Training) MSE:  0.18944elapse: 3.310 min\n",
            "test shape:(11233, 288, 1)\n",
            "Epoch 1, mse:0.1883910596370697, mae:0.3703559935092926, rmse:0.4340403974056244, mape:0.2714180648326874, mspe:0.10088718682527542\n",
            "[ Epoch 3 ]\n",
            "  - (Training) MSE:  0.18133elapse: 3.310 min\n",
            "test shape:(11233, 288, 1)\n",
            "Epoch 2, mse:0.1885036826133728, mae:0.37017643451690674, rmse:0.43417009711265564, mape:0.2729506194591522, mspe:0.10432861745357513\n",
            "[ Epoch 4 ]\n",
            "  - (Training) MSE:  0.18069elapse: 3.309 min\n",
            "test shape:(11233, 288, 1)\n",
            "Epoch 3, mse:0.19001668691635132, mae:0.3709046542644501, rmse:0.4359090328216553, mape:0.27322250604629517, mspe:0.10475119203329086\n",
            "[ Epoch 5 ]\n",
            "  - (Training) MSE:  0.18074elapse: 3.309 min\n",
            "test shape:(11233, 288, 1)\n",
            "Epoch 4, mse:0.1861407309770584, mae:0.36660781502723694, rmse:0.4314402937889099, mape:0.26924076676368713, mspe:0.10090723633766174\n",
            "Iteration best metrics: [0.18151667714118958, 0.36133769154548645, 0.42604774236679077, 0.2597586214542389, 0.08887743949890137]\n",
            "[Info] parameters: Namespace(eval=False, data='ETTm1', root_path='./data/ETT/', data_path='ETTm1.csv', univariate=True, input_size=384, predict_step=288, inverse=False, model='Pyraformer', decoder='FC', epoch=5, batch_size=32, pretrain=False, hard_sample_mining=False, dropout=0.2, lr=0.0001, lr_step=0.1, d_model=256, d_inner_hid=512, d_k=64, d_v=64, d_bottleneck=64, n_head=6, n_layer=4, window_size=[5, 5, 5], inner_size=3, CSCM='Bottleneck_Construct', truncate=False, use_tvm=False, iter_num=3, enc_in=1, dec_in=1, covariate_size=4, seq_num=1, embed_type='DataEmbedding', device=device(type='cuda'))\n",
            "[Info] Number of parameters: 3022464\n",
            "train 33889\n",
            "test 11233\n",
            "[ Epoch 1 ]\n",
            "  - (Training) MSE:  0.27633elapse: 3.311 min\n",
            "test shape:(11233, 288, 1)\n",
            "Epoch 0, mse:0.15406838059425354, mae:0.32290002703666687, rmse:0.3925154507160187, mape:0.23652593791484833, mspe:0.08090493828058243\n",
            "[ Epoch 2 ]\n",
            "  - (Training) MSE:  0.18286elapse: 3.310 min\n",
            "test shape:(11233, 288, 1)\n",
            "Epoch 1, mse:0.18558140099048615, mae:0.36593812704086304, rmse:0.43079158663749695, mape:0.2675926685333252, mspe:0.09837286919355392\n",
            "[ Epoch 3 ]\n",
            "  - (Training) MSE:  0.17457elapse: 3.309 min\n",
            "test shape:(11233, 288, 1)\n",
            "Epoch 2, mse:0.16608764231204987, mae:0.34230539202690125, rmse:0.407538503408432, mape:0.24994398653507233, mspe:0.08722689747810364\n",
            "[ Epoch 4 ]\n",
            "  - (Training) MSE:  0.17423elapse: 3.310 min\n",
            "test shape:(11233, 288, 1)\n",
            "Epoch 3, mse:0.178870290517807, mae:0.3579307794570923, rmse:0.42293059825897217, mape:0.2623482346534729, mspe:0.09552254527807236\n",
            "[ Epoch 5 ]\n",
            "  - (Training) MSE:  0.17335elapse: 3.311 min\n",
            "test shape:(11233, 288, 1)\n",
            "Epoch 4, mse:0.18227989971637726, mae:0.3617638349533081, rmse:0.42694249749183655, mape:0.26514574885368347, mspe:0.09738258272409439\n",
            "Iteration best metrics: [0.15406838059425354, 0.32290002703666687, 0.3925154507160187, 0.23652593791484833, 0.08090493828058243]\n",
            "[Info] parameters: Namespace(eval=False, data='ETTm1', root_path='./data/ETT/', data_path='ETTm1.csv', univariate=True, input_size=384, predict_step=288, inverse=False, model='Pyraformer', decoder='FC', epoch=5, batch_size=32, pretrain=False, hard_sample_mining=False, dropout=0.2, lr=0.0001, lr_step=0.1, d_model=256, d_inner_hid=512, d_k=64, d_v=64, d_bottleneck=64, n_head=6, n_layer=4, window_size=[5, 5, 5], inner_size=3, CSCM='Bottleneck_Construct', truncate=False, use_tvm=False, iter_num=3, enc_in=1, dec_in=1, covariate_size=4, seq_num=1, embed_type='DataEmbedding', device=device(type='cuda'))\n",
            "[Info] Number of parameters: 3022464\n",
            "train 33889\n",
            "test 11233\n",
            "[ Epoch 1 ]\n",
            "  - (Training) MSE:  0.27602elapse: 3.309 min\n",
            "test shape:(11233, 288, 1)\n",
            "Epoch 0, mse:0.1732635349035263, mae:0.35184621810913086, rmse:0.4162493646144867, mape:0.25196149945259094, mspe:0.08289491385221481\n",
            "[ Epoch 2 ]\n",
            "  - (Training) MSE:  0.19151elapse: 3.305 min\n",
            "test shape:(11233, 288, 1)\n",
            "Epoch 1, mse:0.1476035863161087, mae:0.31533917784690857, rmse:0.3841921091079712, mape:0.22865955531597137, mspe:0.07464029639959335\n",
            "[ Epoch 3 ]\n",
            "  - (Training) MSE:  0.18436elapse: 3.311 min\n",
            "test shape:(11233, 288, 1)\n",
            "Epoch 2, mse:0.14749151468276978, mae:0.3153805434703827, rmse:0.3840462267398834, mape:0.2286335825920105, mspe:0.07467422634363174\n",
            "[ Epoch 4 ]\n",
            "  - (Training) MSE:  0.18320elapse: 3.310 min\n",
            "test shape:(11233, 288, 1)\n",
            "Epoch 3, mse:0.14549265801906586, mae:0.3132305443286896, rmse:0.38143500685691833, mape:0.22710062563419342, mspe:0.07375962287187576\n",
            "[ Epoch 5 ]\n",
            "  - (Training) MSE:  0.18366elapse: 3.302 min\n",
            "test shape:(11233, 288, 1)\n",
            "Epoch 4, mse:0.1449986696243286, mae:0.31247735023498535, rmse:0.3807868957519531, mape:0.22668781876564026, mspe:0.0736783891916275\n",
            "Iteration best metrics: [0.1449986696243286, 0.31247735023498535, 0.3807868957519531, 0.22668781876564026, 0.0736783891916275]\n",
            "Average Metrics: [0.16019458 0.33223836 0.39978336 0.24099079 0.08115359]\n",
            "[Info] parameters: Namespace(eval=False, data='ETTm1', root_path='./data/ETT/', data_path='ETTm1.csv', univariate=True, input_size=384, predict_step=672, inverse=False, model='Pyraformer', decoder='FC', epoch=5, batch_size=32, pretrain=False, hard_sample_mining=False, dropout=0.2, lr=0.0001, lr_step=0.1, d_model=256, d_inner_hid=512, d_k=64, d_v=64, d_bottleneck=64, n_head=6, n_layer=4, window_size=[5, 5, 5], inner_size=3, CSCM='Bottleneck_Construct', truncate=False, use_tvm=False, iter_num=3, enc_in=1, dec_in=1, covariate_size=4, seq_num=1, embed_type='DataEmbedding')\n",
            "[Info] Number of parameters: 3415680\n",
            "train 33505\n",
            "test 10849\n",
            "[ Epoch 1 ]\n",
            "Traceback (most recent call last):\n",
            "  File \"/content/Pyraformer/long_range_main.py\", line 384, in <module>\n",
            "    metrics = main(opt, i)\n",
            "  File \"/content/Pyraformer/long_range_main.py\", line 371, in main\n",
            "    best_metrics = train(model, optimizer, scheduler, opt, model_save_dir)\n",
            "  File \"/content/Pyraformer/long_range_main.py\", line 242, in train\n",
            "    train_mse = train_epoch(model, train_dataset, training_dataloader, optimizer, opt, epoch_i)\n",
            "  File \"/content/Pyraformer/long_range_main.py\", line 182, in train_epoch\n",
            "    total_loss += losses.sum().item()\n",
            "KeyboardInterrupt\n",
            "^C\n"
          ]
        }
      ]
    },
    {
      "cell_type": "code",
      "source": [
        "from google.colab import files\n",
        "files.download('/content/Pyraformer/result.txt')"
      ],
      "metadata": {
        "id": "ApHaLYUFYp86",
        "outputId": "17109f52-d5b2-4a5d-db1a-dd11b35b19a1",
        "colab": {
          "base_uri": "https://localhost:8080/",
          "height": 17
        }
      },
      "execution_count": 6,
      "outputs": [
        {
          "output_type": "display_data",
          "data": {
            "text/plain": [
              "<IPython.core.display.Javascript object>"
            ],
            "application/javascript": [
              "\n",
              "    async function download(id, filename, size) {\n",
              "      if (!google.colab.kernel.accessAllowed) {\n",
              "        return;\n",
              "      }\n",
              "      const div = document.createElement('div');\n",
              "      const label = document.createElement('label');\n",
              "      label.textContent = `Downloading \"${filename}\": `;\n",
              "      div.appendChild(label);\n",
              "      const progress = document.createElement('progress');\n",
              "      progress.max = size;\n",
              "      div.appendChild(progress);\n",
              "      document.body.appendChild(div);\n",
              "\n",
              "      const buffers = [];\n",
              "      let downloaded = 0;\n",
              "\n",
              "      const channel = await google.colab.kernel.comms.open(id);\n",
              "      // Send a message to notify the kernel that we're ready.\n",
              "      channel.send({})\n",
              "\n",
              "      for await (const message of channel.messages) {\n",
              "        // Send a message to notify the kernel that we're ready.\n",
              "        channel.send({})\n",
              "        if (message.buffers) {\n",
              "          for (const buffer of message.buffers) {\n",
              "            buffers.push(buffer);\n",
              "            downloaded += buffer.byteLength;\n",
              "            progress.value = downloaded;\n",
              "          }\n",
              "        }\n",
              "      }\n",
              "      const blob = new Blob(buffers, {type: 'application/binary'});\n",
              "      const a = document.createElement('a');\n",
              "      a.href = window.URL.createObjectURL(blob);\n",
              "      a.download = filename;\n",
              "      div.appendChild(a);\n",
              "      a.click();\n",
              "      div.remove();\n",
              "    }\n",
              "  "
            ]
          },
          "metadata": {}
        },
        {
          "output_type": "display_data",
          "data": {
            "text/plain": [
              "<IPython.core.display.Javascript object>"
            ],
            "application/javascript": [
              "download(\"download_8a2511b3-b27d-4d53-b7ec-f439939e2b03\", \"result.txt\", 286)"
            ]
          },
          "metadata": {}
        }
      ]
    }
  ]
}